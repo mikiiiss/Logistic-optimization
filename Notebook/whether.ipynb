{
 "cells": [
  {
   "cell_type": "code",
   "execution_count": null,
   "metadata": {},
   "outputs": [],
   "source": [
    "import requests\n",
    "import datetime\n",
    "\n",
    "# Define the OpenWeatherMap API key\n",
    "api_key = \"566d6148fa21834601bedfbc585af65c\"\n",
    "\n",
    "# Define the function to check if it rains on a date in Nigeria\n",
    "def is_raining(date):\n",
    "    # Convert the date to a string in the format YYYY-MM-DD\n",
    "    date_str = date.strftime(\"%Y-%m-%d\")\n",
    "\n",
    "    # Fetch the weather data for the given date\n",
    "    response = requests.get(f\"http://api.openweathermap.org/data/2.5/weather?q=Nigeria&dt={date_str}&appid={api_key}\")\n",
    "\n",
    "    # Check if the API response is valid\n",
    "    if response.status_code == 200:\n",
    "        # Try to get the weather data from the response\n",
    "        try:\n",
    "            weather_data = response.json()\n",
    "            # Check if it rains on the date\n",
    "            if \"rain\" in weather_data.get(\"weather\", [])[0].get(\"main\", \"\"):\n",
    "                return 1\n",
    "            else:\n",
    "                return 0\n",
    "        except KeyError:\n",
    "            # If the API response is not valid, return 0\n",
    "            return 0\n",
    "    else:\n",
    "        # If the API response is not valid, return 0\n",
    "        return 0"
   ]
  },
  {
   "cell_type": "code",
   "execution_count": null,
   "metadata": {},
   "outputs": [],
   "source": [
    "import datetime\n",
    "\n",
    "# Convert the \"Trip Start Time\" and \"Trip End Time\" columns to datetime objects\n",
    "start_times = []\n",
    "end_times = []\n",
    "for index, row in df.iterrows():\n",
    "    start_times.append(datetime.datetime.strptime(row['Trip Start Time'], '%Y-%m-%d %H:%M:%S'))\n",
    "    end_times.append(datetime.datetime.strptime(row['Trip End Time'], '%Y-%m-%d %H:%M:%S'))"
   ]
  },
  {
   "cell_type": "code",
   "execution_count": null,
   "metadata": {},
   "outputs": [],
   "source": [
    "# Get the unique dates from the start and end times\n",
    "unique_dates = set()\n",
    "for start_time in start_times:\n",
    "    unique_dates.add(start_time.date())\n",
    "for end_time in end_times:\n",
    "    unique_dates.add(end_time.date())"
   ]
  },
  {
   "cell_type": "code",
   "execution_count": null,
   "metadata": {},
   "outputs": [],
   "source": [
    "# Convert the set of unique dates back to a list\n",
    "unique_dates = list(unique_dates)\n",
    "unique_dates"
   ]
  },
  {
   "cell_type": "code",
   "execution_count": null,
   "metadata": {},
   "outputs": [],
   "source": [
    "# Create a dictionary to store the results\n",
    "rain_results = {}\n",
    "\n",
    "# Define the function to get the weather data for a given date\n",
    "def get_weather_data(date):\n",
    "    response = requests.get(f\"http://api.openweathermap.org/data/2.5/weather?q=Nigeria&dt={date}&appid={api_key}\")\n",
    "    return response.json()\n",
    "\n",
    "# Loop through the unique dates\n",
    "for date in unique_dates:\n",
    "    # Get the weather data for the date\n",
    "    weather_data = get_weather_data(date)\n",
    "\n",
    "    # Check if it rains on the date\n",
    "    if \"rain\" in weather_data.get(\"weather\", [])[0].get(\"main\", \"\"):\n",
    "        # Add the date to the list of raining days\n",
    "        rain_results[date] = True\n",
    "    else:\n",
    "        # Add the date to the list of non-raining days\n",
    "        rain_results[date] = False\n",
    "\n",
    "# Add the \"rain\" column to the original DataFrame\n",
    "df['rain'] = [rain_results.get(datetime.datetime.strptime(date, '%Y-%m-%d %H:%M:%S').date(), False) for date in df['Trip Start Time']]\n",
    "\n",
    "print(df)"
   ]
  }
 ],
 "metadata": {
  "language_info": {
   "name": "python"
  }
 },
 "nbformat": 4,
 "nbformat_minor": 2
}
