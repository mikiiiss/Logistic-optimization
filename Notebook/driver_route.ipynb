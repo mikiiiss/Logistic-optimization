{
 "cells": [
  {
   "cell_type": "code",
   "execution_count": 1,
   "metadata": {},
   "outputs": [
    {
     "name": "stderr",
     "output_type": "stream",
     "text": [
      "/tmp/ipykernel_48487/2257615915.py:4: DtypeWarning: Columns (7,8,10) have mixed types. Specify dtype option on import or set low_memory=False.\n",
      "  data = pd.read_csv('order_with_trip_info.csv')\n"
     ]
    }
   ],
   "source": [
    "\n",
    "import pandas as pd\n",
    "\n",
    "# Load the dataset\n",
    "data = pd.read_csv('order_with_trip_info.csv')"
   ]
  },
  {
   "cell_type": "code",
   "execution_count": 15,
   "metadata": {},
   "outputs": [
    {
     "data": {
      "text/plain": [
       "757"
      ]
     },
     "execution_count": 15,
     "metadata": {},
     "output_type": "execute_result"
    }
   ],
   "source": [
    "data['order_id'].nunique()"
   ]
  },
  {
   "cell_type": "code",
   "execution_count": 6,
   "metadata": {},
   "outputs": [],
   "source": [
    "# Split 'trip_origin' into separate latitude and longitude columns\n",
    "data[['origin_lat', 'origin_lng']] = data['trip_origin'].str.strip('\"').str.split(',', expand=True).astype(float)"
   ]
  },
  {
   "cell_type": "code",
   "execution_count": 7,
   "metadata": {},
   "outputs": [
    {
     "name": "stdout",
     "output_type": "stream",
     "text": [
      "Missing values in columns:\n",
      " lat           1531282\n",
      "lng           1531282\n",
      "origin_lat    1531282\n",
      "origin_lng    1531282\n",
      "dtype: int64\n"
     ]
    }
   ],
   "source": [
    "# Check for missing values in the relevant columns\n",
    "missing_data = data[['lat', 'lng', 'origin_lat', 'origin_lng']].isnull().sum()\n",
    "print(\"Missing values in columns:\\n\", missing_data)\n",
    "\n",
    "# Drop rows with missing values in the relevant columns\n",
    "data = data.dropna(subset=['lat', 'lng', 'origin_lat', 'origin_lng'])"
   ]
  },
  {
   "cell_type": "code",
   "execution_count": 11,
   "metadata": {},
   "outputs": [],
   "source": [
    "\n",
    "# Filter the data for the specific order_id\n",
    "order_id = 392001\n",
    "specific_order_data = data[data['order_id'] == order_id]\n",
    "\n",
    "if specific_order_data.empty:\n",
    "    print(f\"No data found for order_id {order_id}\")\n",
    "else:\n",
    "    # Function to calculate the distance (optional, for display)\n",
    "    def calculate_distance(row):\n",
    "        start = (row['lat'], row['lng'])\n",
    "        end = (row['origin_lat'], row['origin_lng'])\n",
    "        return geodesic(start, end).kilometers"
   ]
  },
  {
   "cell_type": "code",
   "execution_count": 12,
   "metadata": {},
   "outputs": [
    {
     "name": "stdout",
     "output_type": "stream",
     "text": [
      "        lat       lng  origin_lat  origin_lng  distance_to_origin\n",
      "0  6.601042  3.276634    6.601042    3.276634                 0.0\n",
      "1  6.565088  3.384441    6.565088    3.384441                 0.0\n",
      "2  6.663648  3.308206    6.663648    3.308206                 0.0\n",
      "3  6.430817  3.434155    6.430817    3.434155                 0.0\n",
      "4  6.499156  3.358517    6.499156    3.358517                 0.0\n",
      "5  6.535043  3.331624    6.535043    3.331624                 0.0\n",
      "6  6.446071  3.478035    6.446071    3.478035                 0.0\n",
      "7  6.594333  3.300784    6.594333    3.300784                 0.0\n",
      "8  6.539903  3.362133    6.539903    3.362133                 0.0\n",
      "9  6.510830  3.334219    6.510830    3.334219                 0.0\n"
     ]
    },
    {
     "name": "stderr",
     "output_type": "stream",
     "text": [
      "/tmp/ipykernel_48487/1726109242.py:2: SettingWithCopyWarning: \n",
      "A value is trying to be set on a copy of a slice from a DataFrame.\n",
      "Try using .loc[row_indexer,col_indexer] = value instead\n",
      "\n",
      "See the caveats in the documentation: https://pandas.pydata.org/pandas-docs/stable/user_guide/indexing.html#returning-a-view-versus-a-copy\n",
      "  specific_order_data['distance_to_origin'] = specific_order_data.apply(calculate_distance, axis=1)\n"
     ]
    }
   ],
   "source": [
    "\n",
    "# Calculate distance for the specific order (optional)\n",
    "specific_order_data['distance_to_origin'] = specific_order_data.apply(calculate_distance, axis=1)\n",
    "print(specific_order_data[['lat', 'lng', 'origin_lat', 'origin_lng', 'distance_to_origin']])"
   ]
  },
  {
   "cell_type": "code",
   "execution_count": 13,
   "metadata": {},
   "outputs": [],
   "source": [
    "\n",
    "# Create a map centered around the specific order's origin\n",
    "map_center = [specific_order_data['lat'].mean(), specific_order_data['lng'].mean()]\n",
    "mymap = folium.Map(location=map_center, zoom_start=12)\n",
    "\n",
    "# Function to add a route to the map\n",
    "def add_route(row):\n",
    "    start = [row['lat'], row['lng']]\n",
    "    end = [row['origin_lat'], row['origin_lng']]\n",
    "    folium.Marker(location=start, popup='Start').add_to(mymap)\n",
    "    folium.Marker(location=end, popup='Origin').add_to(mymap)\n",
    "    folium.PolyLine([start, end], color='blue').add_to(mymap)"
   ]
  },
  {
   "cell_type": "code",
   "execution_count": 14,
   "metadata": {},
   "outputs": [],
   "source": [
    "\n",
    "# Apply the function to the specific order row\n",
    "specific_order_data.apply(add_route, axis=1)\n",
    "\n",
    "# Save the map to an HTML file\n",
    "file_path = 'specific_order_route_map.html'\n",
    "mymap.save(file_path)"
   ]
  },
  {
   "cell_type": "code",
   "execution_count": 8,
   "metadata": {},
   "outputs": [
    {
     "name": "stdout",
     "output_type": "stream",
     "text": [
      "            lat       lng  origin_lat  origin_lng  distance_to_origin\n",
      "0      6.601042  3.276634    6.601042    3.276634                 0.0\n",
      "1      6.565088  3.384441    6.565088    3.384441                 0.0\n",
      "2      6.663648  3.308206    6.663648    3.308206                 0.0\n",
      "3      6.430817  3.434155    6.430817    3.434155                 0.0\n",
      "4      6.499156  3.358517    6.499156    3.358517                 0.0\n",
      "...         ...       ...         ...         ...                 ...\n",
      "26453  6.442073  3.478872    6.442073    3.478872                 0.0\n",
      "26454  6.446199  3.549756    6.446199    3.549756                 0.0\n",
      "26455  6.482082  3.382865    6.482082    3.382865                 0.0\n",
      "26456  6.449419  3.401645    6.449419    3.401645                 0.0\n",
      "26457  6.443374  3.552312    6.443374    3.552312                 0.0\n",
      "\n",
      "[26458 rows x 5 columns]\n"
     ]
    },
    {
     "name": "stderr",
     "output_type": "stream",
     "text": [
      "/tmp/ipykernel_48487/2634718197.py:10: SettingWithCopyWarning: \n",
      "A value is trying to be set on a copy of a slice from a DataFrame.\n",
      "Try using .loc[row_indexer,col_indexer] = value instead\n",
      "\n",
      "See the caveats in the documentation: https://pandas.pydata.org/pandas-docs/stable/user_guide/indexing.html#returning-a-view-versus-a-copy\n",
      "  data['distance_to_origin'] = data.apply(calculate_distance, axis=1)\n"
     ]
    }
   ],
   "source": [
    "from geopy.distance import geodesic\n",
    "\n",
    "# Function to calculate the distance\n",
    "def calculate_distance(row):\n",
    "    start = (row['lat'], row['lng'])\n",
    "    end = (row['origin_lat'], row['origin_lng'])\n",
    "    return geodesic(start, end).kilometers\n",
    "\n",
    "# Apply the function to calculate distances\n",
    "data['distance_to_origin'] = data.apply(calculate_distance, axis=1)\n",
    "print(data[['lat', 'lng', 'origin_lat', 'origin_lng', 'distance_to_origin']])"
   ]
  },
  {
   "cell_type": "code",
   "execution_count": 9,
   "metadata": {},
   "outputs": [],
   "source": [
    "import folium\n",
    "\n",
    "# Create a map centered around the first point\n",
    "map_center = [data['lat'].mean(), data['lng'].mean()]\n",
    "mymap = folium.Map(location=map_center, zoom_start=12)\n",
    "\n",
    "# Function to add a route to the map\n",
    "def add_route(row):\n",
    "    start = [row['lat'], row['lng']]\n",
    "    end = [row['origin_lat'], row['origin_lng']]\n",
    "    folium.Marker(location=start, popup='Start').add_to(mymap)\n",
    "    folium.Marker(location=end, popup='Origin').add_to(mymap)\n",
    "    folium.PolyLine([start, end], color='blue').add_to(mymap)\n",
    "\n",
    "# Apply the function to each row in the DataFrame\n",
    "data.apply(add_route, axis=1)\n",
    "\n",
    "# Save the map to an HTML file\n",
    "mymap.save('routes_map.html')"
   ]
  }
 ],
 "metadata": {
  "kernelspec": {
   "display_name": ".venv",
   "language": "python",
   "name": "python3"
  },
  "language_info": {
   "codemirror_mode": {
    "name": "ipython",
    "version": 3
   },
   "file_extension": ".py",
   "mimetype": "text/x-python",
   "name": "python",
   "nbconvert_exporter": "python",
   "pygments_lexer": "ipython3",
   "version": "3.8.10"
  }
 },
 "nbformat": 4,
 "nbformat_minor": 2
}
