{
 "cells": [
  {
   "cell_type": "code",
   "execution_count": 1,
   "metadata": {},
   "outputs": [],
   "source": [
    "import pandas as pd\n",
    "from geopy.distance import geodesic\n",
    "import datetime"
   ]
  },
  {
   "cell_type": "code",
   "execution_count": 2,
   "metadata": {},
   "outputs": [],
   "source": [
    "path=\"../datasets/new_cleaned_data.csv\"\n"
   ]
  },
  {
   "cell_type": "code",
   "execution_count": 3,
   "metadata": {},
   "outputs": [
    {
     "data": {
      "text/html": [
       "<div>\n",
       "<style scoped>\n",
       "    .dataframe tbody tr th:only-of-type {\n",
       "        vertical-align: middle;\n",
       "    }\n",
       "\n",
       "    .dataframe tbody tr th {\n",
       "        vertical-align: top;\n",
       "    }\n",
       "\n",
       "    .dataframe thead th {\n",
       "        text-align: right;\n",
       "    }\n",
       "</style>\n",
       "<table border=\"1\" class=\"dataframe\">\n",
       "  <thead>\n",
       "    <tr style=\"text-align: right;\">\n",
       "      <th></th>\n",
       "      <th>Trip ID</th>\n",
       "      <th>Trip Origin</th>\n",
       "      <th>Trip Destination</th>\n",
       "      <th>Trip Start Time</th>\n",
       "      <th>Trip End Time</th>\n",
       "    </tr>\n",
       "  </thead>\n",
       "  <tbody>\n",
       "    <tr>\n",
       "      <th>0</th>\n",
       "      <td>391996</td>\n",
       "      <td>6.508813001668548,3.37740316890347</td>\n",
       "      <td>6.650969799999999,3.3450307</td>\n",
       "      <td>2021-07-01 07:28:04</td>\n",
       "      <td>2021-07-01 07:29:37</td>\n",
       "    </tr>\n",
       "    <tr>\n",
       "      <th>1</th>\n",
       "      <td>391997</td>\n",
       "      <td>6.4316714,3.4555375</td>\n",
       "      <td>6.4280814653326,3.4721885847586</td>\n",
       "      <td>2021-07-01 06:38:04</td>\n",
       "      <td>2021-07-01 07:07:28</td>\n",
       "    </tr>\n",
       "    <tr>\n",
       "      <th>2</th>\n",
       "      <td>391998</td>\n",
       "      <td>6.631679399999999,3.3388976</td>\n",
       "      <td>6.508324099999999,3.3590397</td>\n",
       "      <td>2021-07-01 06:21:02</td>\n",
       "      <td>2021-07-01 07:02:23</td>\n",
       "    </tr>\n",
       "    <tr>\n",
       "      <th>3</th>\n",
       "      <td>391999</td>\n",
       "      <td>6.572757200000001,3.3677082</td>\n",
       "      <td>6.584881099999999,3.3614073</td>\n",
       "      <td>2021-07-01 07:16:07</td>\n",
       "      <td>2021-07-01 07:29:42</td>\n",
       "    </tr>\n",
       "    <tr>\n",
       "      <th>4</th>\n",
       "      <td>392001</td>\n",
       "      <td>6.6010417,3.2766339</td>\n",
       "      <td>6.4501069,3.3916154</td>\n",
       "      <td>2021-07-01 09:30:59</td>\n",
       "      <td>2021-07-01 09:34:36</td>\n",
       "    </tr>\n",
       "  </tbody>\n",
       "</table>\n",
       "</div>"
      ],
      "text/plain": [
       "   Trip ID                         Trip Origin  \\\n",
       "0   391996  6.508813001668548,3.37740316890347   \n",
       "1   391997                 6.4316714,3.4555375   \n",
       "2   391998         6.631679399999999,3.3388976   \n",
       "3   391999         6.572757200000001,3.3677082   \n",
       "4   392001                 6.6010417,3.2766339   \n",
       "\n",
       "                  Trip Destination      Trip Start Time        Trip End Time  \n",
       "0      6.650969799999999,3.3450307  2021-07-01 07:28:04  2021-07-01 07:29:37  \n",
       "1  6.4280814653326,3.4721885847586  2021-07-01 06:38:04  2021-07-01 07:07:28  \n",
       "2      6.508324099999999,3.3590397  2021-07-01 06:21:02  2021-07-01 07:02:23  \n",
       "3      6.584881099999999,3.3614073  2021-07-01 07:16:07  2021-07-01 07:29:42  \n",
       "4              6.4501069,3.3916154  2021-07-01 09:30:59  2021-07-01 09:34:36  "
      ]
     },
     "execution_count": 3,
     "metadata": {},
     "output_type": "execute_result"
    }
   ],
   "source": [
    "df= pd.read_csv(path)\n",
    "df.head()"
   ]
  },
  {
   "cell_type": "code",
   "execution_count": 76,
   "metadata": {},
   "outputs": [
    {
     "data": {
      "text/plain": [
       "(534368, 5)"
      ]
     },
     "execution_count": 76,
     "metadata": {},
     "output_type": "execute_result"
    }
   ],
   "source": [
    "df.shape"
   ]
  },
  {
   "cell_type": "code",
   "execution_count": 28,
   "metadata": {},
   "outputs": [
    {
     "ename": "KeyboardInterrupt",
     "evalue": "",
     "output_type": "error",
     "traceback": [
      "\u001b[0;31m---------------------------------------------------------------------------\u001b[0m",
      "\u001b[0;31mKeyboardInterrupt\u001b[0m                         Traceback (most recent call last)",
      "Cell \u001b[0;32mIn[28], line 6\u001b[0m\n\u001b[1;32m      4\u001b[0m     distance \u001b[38;5;241m=\u001b[39m geodesic(origin, destination)\u001b[38;5;241m.\u001b[39mmiles\n\u001b[1;32m      5\u001b[0m     \u001b[38;5;28;01mreturn\u001b[39;00m distance\n\u001b[0;32m----> 6\u001b[0m df[\u001b[38;5;124m'\u001b[39m\u001b[38;5;124mDistance\u001b[39m\u001b[38;5;124m'\u001b[39m] \u001b[38;5;241m=\u001b[39m \u001b[43mdf\u001b[49m\u001b[38;5;241;43m.\u001b[39;49m\u001b[43mapply\u001b[49m\u001b[43m(\u001b[49m\u001b[38;5;28;43;01mlambda\u001b[39;49;00m\u001b[43m \u001b[49m\u001b[43mrow\u001b[49m\u001b[43m:\u001b[49m\u001b[43m \u001b[49m\u001b[43mcalculate_distance\u001b[49m\u001b[43m(\u001b[49m\u001b[43mrow\u001b[49m\u001b[43m)\u001b[49m\u001b[43m,\u001b[49m\u001b[43m \u001b[49m\u001b[43maxis\u001b[49m\u001b[38;5;241;43m=\u001b[39;49m\u001b[38;5;241;43m1\u001b[39;49m\u001b[43m)\u001b[49m\n",
      "File \u001b[0;32m~/Logistic-optimization/.venv/lib/python3.8/site-packages/pandas/core/frame.py:9423\u001b[0m, in \u001b[0;36mDataFrame.apply\u001b[0;34m(self, func, axis, raw, result_type, args, **kwargs)\u001b[0m\n\u001b[1;32m   9412\u001b[0m \u001b[38;5;28;01mfrom\u001b[39;00m \u001b[38;5;21;01mpandas\u001b[39;00m\u001b[38;5;21;01m.\u001b[39;00m\u001b[38;5;21;01mcore\u001b[39;00m\u001b[38;5;21;01m.\u001b[39;00m\u001b[38;5;21;01mapply\u001b[39;00m \u001b[38;5;28;01mimport\u001b[39;00m frame_apply\n\u001b[1;32m   9414\u001b[0m op \u001b[38;5;241m=\u001b[39m frame_apply(\n\u001b[1;32m   9415\u001b[0m     \u001b[38;5;28mself\u001b[39m,\n\u001b[1;32m   9416\u001b[0m     func\u001b[38;5;241m=\u001b[39mfunc,\n\u001b[0;32m   (...)\u001b[0m\n\u001b[1;32m   9421\u001b[0m     kwargs\u001b[38;5;241m=\u001b[39mkwargs,\n\u001b[1;32m   9422\u001b[0m )\n\u001b[0;32m-> 9423\u001b[0m \u001b[38;5;28;01mreturn\u001b[39;00m \u001b[43mop\u001b[49m\u001b[38;5;241;43m.\u001b[39;49m\u001b[43mapply\u001b[49m\u001b[43m(\u001b[49m\u001b[43m)\u001b[49m\u001b[38;5;241m.\u001b[39m__finalize__(\u001b[38;5;28mself\u001b[39m, method\u001b[38;5;241m=\u001b[39m\u001b[38;5;124m\"\u001b[39m\u001b[38;5;124mapply\u001b[39m\u001b[38;5;124m\"\u001b[39m)\n",
      "File \u001b[0;32m~/Logistic-optimization/.venv/lib/python3.8/site-packages/pandas/core/apply.py:678\u001b[0m, in \u001b[0;36mFrameApply.apply\u001b[0;34m(self)\u001b[0m\n\u001b[1;32m    675\u001b[0m \u001b[38;5;28;01melif\u001b[39;00m \u001b[38;5;28mself\u001b[39m\u001b[38;5;241m.\u001b[39mraw:\n\u001b[1;32m    676\u001b[0m     \u001b[38;5;28;01mreturn\u001b[39;00m \u001b[38;5;28mself\u001b[39m\u001b[38;5;241m.\u001b[39mapply_raw()\n\u001b[0;32m--> 678\u001b[0m \u001b[38;5;28;01mreturn\u001b[39;00m \u001b[38;5;28;43mself\u001b[39;49m\u001b[38;5;241;43m.\u001b[39;49m\u001b[43mapply_standard\u001b[49m\u001b[43m(\u001b[49m\u001b[43m)\u001b[49m\n",
      "File \u001b[0;32m~/Logistic-optimization/.venv/lib/python3.8/site-packages/pandas/core/apply.py:798\u001b[0m, in \u001b[0;36mFrameApply.apply_standard\u001b[0;34m(self)\u001b[0m\n\u001b[1;32m    797\u001b[0m \u001b[38;5;28;01mdef\u001b[39;00m \u001b[38;5;21mapply_standard\u001b[39m(\u001b[38;5;28mself\u001b[39m):\n\u001b[0;32m--> 798\u001b[0m     results, res_index \u001b[38;5;241m=\u001b[39m \u001b[38;5;28;43mself\u001b[39;49m\u001b[38;5;241;43m.\u001b[39;49m\u001b[43mapply_series_generator\u001b[49m\u001b[43m(\u001b[49m\u001b[43m)\u001b[49m\n\u001b[1;32m    800\u001b[0m     \u001b[38;5;66;03m# wrap results\u001b[39;00m\n\u001b[1;32m    801\u001b[0m     \u001b[38;5;28;01mreturn\u001b[39;00m \u001b[38;5;28mself\u001b[39m\u001b[38;5;241m.\u001b[39mwrap_results(results, res_index)\n",
      "File \u001b[0;32m~/Logistic-optimization/.venv/lib/python3.8/site-packages/pandas/core/apply.py:814\u001b[0m, in \u001b[0;36mFrameApply.apply_series_generator\u001b[0;34m(self)\u001b[0m\n\u001b[1;32m    811\u001b[0m \u001b[38;5;28;01mwith\u001b[39;00m option_context(\u001b[38;5;124m\"\u001b[39m\u001b[38;5;124mmode.chained_assignment\u001b[39m\u001b[38;5;124m\"\u001b[39m, \u001b[38;5;28;01mNone\u001b[39;00m):\n\u001b[1;32m    812\u001b[0m     \u001b[38;5;28;01mfor\u001b[39;00m i, v \u001b[38;5;129;01min\u001b[39;00m \u001b[38;5;28menumerate\u001b[39m(series_gen):\n\u001b[1;32m    813\u001b[0m         \u001b[38;5;66;03m# ignore SettingWithCopy here in case the user mutates\u001b[39;00m\n\u001b[0;32m--> 814\u001b[0m         results[i] \u001b[38;5;241m=\u001b[39m \u001b[38;5;28;43mself\u001b[39;49m\u001b[38;5;241;43m.\u001b[39;49m\u001b[43mf\u001b[49m\u001b[43m(\u001b[49m\u001b[43mv\u001b[49m\u001b[43m)\u001b[49m\n\u001b[1;32m    815\u001b[0m         \u001b[38;5;28;01mif\u001b[39;00m \u001b[38;5;28misinstance\u001b[39m(results[i], ABCSeries):\n\u001b[1;32m    816\u001b[0m             \u001b[38;5;66;03m# If we have a view on v, we need to make a copy because\u001b[39;00m\n\u001b[1;32m    817\u001b[0m             \u001b[38;5;66;03m#  series_generator will swap out the underlying data\u001b[39;00m\n\u001b[1;32m    818\u001b[0m             results[i] \u001b[38;5;241m=\u001b[39m results[i]\u001b[38;5;241m.\u001b[39mcopy(deep\u001b[38;5;241m=\u001b[39m\u001b[38;5;28;01mFalse\u001b[39;00m)\n",
      "Cell \u001b[0;32mIn[28], line 6\u001b[0m, in \u001b[0;36m<lambda>\u001b[0;34m(row)\u001b[0m\n\u001b[1;32m      4\u001b[0m     distance \u001b[38;5;241m=\u001b[39m geodesic(origin, destination)\u001b[38;5;241m.\u001b[39mmiles\n\u001b[1;32m      5\u001b[0m     \u001b[38;5;28;01mreturn\u001b[39;00m distance\n\u001b[0;32m----> 6\u001b[0m df[\u001b[38;5;124m'\u001b[39m\u001b[38;5;124mDistance\u001b[39m\u001b[38;5;124m'\u001b[39m] \u001b[38;5;241m=\u001b[39m df\u001b[38;5;241m.\u001b[39mapply(\u001b[38;5;28;01mlambda\u001b[39;00m row: \u001b[43mcalculate_distance\u001b[49m\u001b[43m(\u001b[49m\u001b[43mrow\u001b[49m\u001b[43m)\u001b[49m, axis\u001b[38;5;241m=\u001b[39m\u001b[38;5;241m1\u001b[39m)\n",
      "Cell \u001b[0;32mIn[28], line 4\u001b[0m, in \u001b[0;36mcalculate_distance\u001b[0;34m(row)\u001b[0m\n\u001b[1;32m      2\u001b[0m origin \u001b[38;5;241m=\u001b[39m (\u001b[38;5;28mfloat\u001b[39m(row[\u001b[38;5;124m'\u001b[39m\u001b[38;5;124mTrip Origin\u001b[39m\u001b[38;5;124m'\u001b[39m]\u001b[38;5;241m.\u001b[39msplit(\u001b[38;5;124m'\u001b[39m\u001b[38;5;124m,\u001b[39m\u001b[38;5;124m'\u001b[39m)[\u001b[38;5;241m0\u001b[39m]), \u001b[38;5;28mfloat\u001b[39m(row[\u001b[38;5;124m'\u001b[39m\u001b[38;5;124mTrip Origin\u001b[39m\u001b[38;5;124m'\u001b[39m]\u001b[38;5;241m.\u001b[39msplit(\u001b[38;5;124m'\u001b[39m\u001b[38;5;124m,\u001b[39m\u001b[38;5;124m'\u001b[39m)[\u001b[38;5;241m1\u001b[39m]))\n\u001b[1;32m      3\u001b[0m destination \u001b[38;5;241m=\u001b[39m (\u001b[38;5;28mfloat\u001b[39m(row[\u001b[38;5;124m'\u001b[39m\u001b[38;5;124mTrip Destination\u001b[39m\u001b[38;5;124m'\u001b[39m]\u001b[38;5;241m.\u001b[39msplit(\u001b[38;5;124m'\u001b[39m\u001b[38;5;124m,\u001b[39m\u001b[38;5;124m'\u001b[39m)[\u001b[38;5;241m0\u001b[39m]), \u001b[38;5;28mfloat\u001b[39m(row[\u001b[38;5;124m'\u001b[39m\u001b[38;5;124mTrip Destination\u001b[39m\u001b[38;5;124m'\u001b[39m]\u001b[38;5;241m.\u001b[39msplit(\u001b[38;5;124m'\u001b[39m\u001b[38;5;124m,\u001b[39m\u001b[38;5;124m'\u001b[39m)[\u001b[38;5;241m1\u001b[39m]))\n\u001b[0;32m----> 4\u001b[0m distance \u001b[38;5;241m=\u001b[39m \u001b[43mgeodesic\u001b[49m\u001b[43m(\u001b[49m\u001b[43morigin\u001b[49m\u001b[43m,\u001b[49m\u001b[43m \u001b[49m\u001b[43mdestination\u001b[49m\u001b[43m)\u001b[49m\u001b[38;5;241m.\u001b[39mmiles\n\u001b[1;32m      5\u001b[0m \u001b[38;5;28;01mreturn\u001b[39;00m distance\n",
      "File \u001b[0;32m~/Logistic-optimization/.venv/lib/python3.8/site-packages/geopy/distance.py:540\u001b[0m, in \u001b[0;36mgeodesic.__init__\u001b[0;34m(self, *args, **kwargs)\u001b[0m\n\u001b[1;32m    538\u001b[0m \u001b[38;5;28mself\u001b[39m\u001b[38;5;241m.\u001b[39mset_ellipsoid(kwargs\u001b[38;5;241m.\u001b[39mpop(\u001b[38;5;124m'\u001b[39m\u001b[38;5;124mellipsoid\u001b[39m\u001b[38;5;124m'\u001b[39m, \u001b[38;5;124m'\u001b[39m\u001b[38;5;124mWGS-84\u001b[39m\u001b[38;5;124m'\u001b[39m))\n\u001b[1;32m    539\u001b[0m major, minor, f \u001b[38;5;241m=\u001b[39m \u001b[38;5;28mself\u001b[39m\u001b[38;5;241m.\u001b[39mELLIPSOID\n\u001b[0;32m--> 540\u001b[0m \u001b[38;5;28;43msuper\u001b[39;49m\u001b[43m(\u001b[49m\u001b[43m)\u001b[49m\u001b[38;5;241;43m.\u001b[39;49m\u001b[38;5;21;43m__init__\u001b[39;49m\u001b[43m(\u001b[49m\u001b[38;5;241;43m*\u001b[39;49m\u001b[43margs\u001b[49m\u001b[43m,\u001b[49m\u001b[43m \u001b[49m\u001b[38;5;241;43m*\u001b[39;49m\u001b[38;5;241;43m*\u001b[39;49m\u001b[43mkwargs\u001b[49m\u001b[43m)\u001b[49m\n",
      "File \u001b[0;32m~/Logistic-optimization/.venv/lib/python3.8/site-packages/geopy/distance.py:276\u001b[0m, in \u001b[0;36mDistance.__init__\u001b[0;34m(self, *args, **kwargs)\u001b[0m\n\u001b[1;32m    274\u001b[0m \u001b[38;5;28;01melif\u001b[39;00m \u001b[38;5;28mlen\u001b[39m(args) \u001b[38;5;241m>\u001b[39m \u001b[38;5;241m1\u001b[39m:\n\u001b[1;32m    275\u001b[0m     \u001b[38;5;28;01mfor\u001b[39;00m a, b \u001b[38;5;129;01min\u001b[39;00m util\u001b[38;5;241m.\u001b[39mpairwise(args):\n\u001b[0;32m--> 276\u001b[0m         kilometers \u001b[38;5;241m+\u001b[39m\u001b[38;5;241m=\u001b[39m \u001b[38;5;28;43mself\u001b[39;49m\u001b[38;5;241;43m.\u001b[39;49m\u001b[43mmeasure\u001b[49m\u001b[43m(\u001b[49m\u001b[43ma\u001b[49m\u001b[43m,\u001b[49m\u001b[43m \u001b[49m\u001b[43mb\u001b[49m\u001b[43m)\u001b[49m\n\u001b[1;32m    278\u001b[0m kilometers \u001b[38;5;241m+\u001b[39m\u001b[38;5;241m=\u001b[39m units\u001b[38;5;241m.\u001b[39mkilometers(\u001b[38;5;241m*\u001b[39m\u001b[38;5;241m*\u001b[39mkwargs)\n\u001b[1;32m    279\u001b[0m \u001b[38;5;28mself\u001b[39m\u001b[38;5;241m.\u001b[39m__kilometers \u001b[38;5;241m=\u001b[39m kilometers\n",
      "File \u001b[0;32m~/Logistic-optimization/.venv/lib/python3.8/site-packages/geopy/distance.py:566\u001b[0m, in \u001b[0;36mgeodesic.measure\u001b[0;34m(self, a, b)\u001b[0m\n\u001b[1;32m    561\u001b[0m \u001b[38;5;28;01mif\u001b[39;00m \u001b[38;5;129;01mnot\u001b[39;00m (\u001b[38;5;28misinstance\u001b[39m(\u001b[38;5;28mself\u001b[39m\u001b[38;5;241m.\u001b[39mgeod, Geodesic) \u001b[38;5;129;01mand\u001b[39;00m\n\u001b[1;32m    562\u001b[0m         \u001b[38;5;28mself\u001b[39m\u001b[38;5;241m.\u001b[39mgeod\u001b[38;5;241m.\u001b[39ma \u001b[38;5;241m==\u001b[39m \u001b[38;5;28mself\u001b[39m\u001b[38;5;241m.\u001b[39mELLIPSOID[\u001b[38;5;241m0\u001b[39m] \u001b[38;5;129;01mand\u001b[39;00m\n\u001b[1;32m    563\u001b[0m         \u001b[38;5;28mself\u001b[39m\u001b[38;5;241m.\u001b[39mgeod\u001b[38;5;241m.\u001b[39mf \u001b[38;5;241m==\u001b[39m \u001b[38;5;28mself\u001b[39m\u001b[38;5;241m.\u001b[39mELLIPSOID[\u001b[38;5;241m2\u001b[39m]):\n\u001b[1;32m    564\u001b[0m     \u001b[38;5;28mself\u001b[39m\u001b[38;5;241m.\u001b[39mgeod \u001b[38;5;241m=\u001b[39m Geodesic(\u001b[38;5;28mself\u001b[39m\u001b[38;5;241m.\u001b[39mELLIPSOID[\u001b[38;5;241m0\u001b[39m], \u001b[38;5;28mself\u001b[39m\u001b[38;5;241m.\u001b[39mELLIPSOID[\u001b[38;5;241m2\u001b[39m])\n\u001b[0;32m--> 566\u001b[0m s12 \u001b[38;5;241m=\u001b[39m \u001b[38;5;28;43mself\u001b[39;49m\u001b[38;5;241;43m.\u001b[39;49m\u001b[43mgeod\u001b[49m\u001b[38;5;241;43m.\u001b[39;49m\u001b[43mInverse\u001b[49m\u001b[43m(\u001b[49m\u001b[43mlat1\u001b[49m\u001b[43m,\u001b[49m\u001b[43m \u001b[49m\u001b[43mlon1\u001b[49m\u001b[43m,\u001b[49m\u001b[43m \u001b[49m\u001b[43mlat2\u001b[49m\u001b[43m,\u001b[49m\u001b[43m \u001b[49m\u001b[43mlon2\u001b[49m\u001b[43m,\u001b[49m\n\u001b[1;32m    567\u001b[0m \u001b[43m                        \u001b[49m\u001b[43mGeodesic\u001b[49m\u001b[38;5;241;43m.\u001b[39;49m\u001b[43mDISTANCE\u001b[49m\u001b[43m)\u001b[49m[\u001b[38;5;124m'\u001b[39m\u001b[38;5;124ms12\u001b[39m\u001b[38;5;124m'\u001b[39m]\n\u001b[1;32m    569\u001b[0m \u001b[38;5;28;01mreturn\u001b[39;00m s12\n",
      "File \u001b[0;32m~/Logistic-optimization/.venv/lib/python3.8/site-packages/geographiclib/geodesic.py:1030\u001b[0m, in \u001b[0;36mGeodesic.Inverse\u001b[0;34m(self, lat1, lon1, lat2, lon2, outmask)\u001b[0m\n\u001b[1;32m   1012\u001b[0m \u001b[38;5;28;01mdef\u001b[39;00m \u001b[38;5;21mInverse\u001b[39m(\u001b[38;5;28mself\u001b[39m, lat1, lon1, lat2, lon2,\n\u001b[1;32m   1013\u001b[0m             outmask \u001b[38;5;241m=\u001b[39m GeodesicCapability\u001b[38;5;241m.\u001b[39mSTANDARD):\n\u001b[1;32m   1014\u001b[0m \u001b[38;5;250m  \u001b[39m\u001b[38;5;124;03m\"\"\"Solve the inverse geodesic problem\u001b[39;00m\n\u001b[1;32m   1015\u001b[0m \n\u001b[1;32m   1016\u001b[0m \u001b[38;5;124;03m  :param lat1: latitude of the first point in degrees\u001b[39;00m\n\u001b[0;32m   (...)\u001b[0m\n\u001b[1;32m   1027\u001b[0m \n\u001b[1;32m   1028\u001b[0m \u001b[38;5;124;03m  \"\"\"\u001b[39;00m\n\u001b[0;32m-> 1030\u001b[0m   a12, s12, salp1,calp1, salp2,calp2, m12, M12, M21, S12 \u001b[38;5;241m=\u001b[39m \u001b[38;5;28;43mself\u001b[39;49m\u001b[38;5;241;43m.\u001b[39;49m\u001b[43m_GenInverse\u001b[49m\u001b[43m(\u001b[49m\n\u001b[1;32m   1031\u001b[0m \u001b[43m    \u001b[49m\u001b[43mlat1\u001b[49m\u001b[43m,\u001b[49m\u001b[43m \u001b[49m\u001b[43mlon1\u001b[49m\u001b[43m,\u001b[49m\u001b[43m \u001b[49m\u001b[43mlat2\u001b[49m\u001b[43m,\u001b[49m\u001b[43m \u001b[49m\u001b[43mlon2\u001b[49m\u001b[43m,\u001b[49m\u001b[43m \u001b[49m\u001b[43moutmask\u001b[49m\u001b[43m)\u001b[49m\n\u001b[1;32m   1032\u001b[0m   outmask \u001b[38;5;241m&\u001b[39m\u001b[38;5;241m=\u001b[39m Geodesic\u001b[38;5;241m.\u001b[39mOUT_MASK\n\u001b[1;32m   1033\u001b[0m   \u001b[38;5;28;01mif\u001b[39;00m outmask \u001b[38;5;241m&\u001b[39m Geodesic\u001b[38;5;241m.\u001b[39mLONG_UNROLL:\n",
      "File \u001b[0;32m~/Logistic-optimization/.venv/lib/python3.8/site-packages/geographiclib/geodesic.py:841\u001b[0m, in \u001b[0;36mGeodesic._GenInverse\u001b[0;34m(self, lat1, lon1, lat2, lon2, outmask)\u001b[0m\n\u001b[1;32m    833\u001b[0m   a12 \u001b[38;5;241m=\u001b[39m lon12 \u001b[38;5;241m/\u001b[39m \u001b[38;5;28mself\u001b[39m\u001b[38;5;241m.\u001b[39m_f1\n\u001b[1;32m    835\u001b[0m \u001b[38;5;28;01melif\u001b[39;00m \u001b[38;5;129;01mnot\u001b[39;00m meridian:\n\u001b[1;32m    836\u001b[0m \n\u001b[1;32m    837\u001b[0m   \u001b[38;5;66;03m# Now point1 and point2 belong within a hemisphere bounded by a\u001b[39;00m\n\u001b[1;32m    838\u001b[0m   \u001b[38;5;66;03m# meridian and geodesic is neither meridional or equatorial.\u001b[39;00m\n\u001b[1;32m    839\u001b[0m \n\u001b[1;32m    840\u001b[0m   \u001b[38;5;66;03m# Figure a starting point for Newton's method\u001b[39;00m\n\u001b[0;32m--> 841\u001b[0m   sig12, salp1, calp1, salp2, calp2, dnm \u001b[38;5;241m=\u001b[39m \u001b[38;5;28;43mself\u001b[39;49m\u001b[38;5;241;43m.\u001b[39;49m\u001b[43m_InverseStart\u001b[49m\u001b[43m(\u001b[49m\n\u001b[1;32m    842\u001b[0m \u001b[43m    \u001b[49m\u001b[43msbet1\u001b[49m\u001b[43m,\u001b[49m\u001b[43m \u001b[49m\u001b[43mcbet1\u001b[49m\u001b[43m,\u001b[49m\u001b[43m \u001b[49m\u001b[43mdn1\u001b[49m\u001b[43m,\u001b[49m\u001b[43m \u001b[49m\u001b[43msbet2\u001b[49m\u001b[43m,\u001b[49m\u001b[43m \u001b[49m\u001b[43mcbet2\u001b[49m\u001b[43m,\u001b[49m\u001b[43m \u001b[49m\u001b[43mdn2\u001b[49m\u001b[43m,\u001b[49m\u001b[43m \u001b[49m\u001b[43mlam12\u001b[49m\u001b[43m,\u001b[49m\u001b[43m \u001b[49m\u001b[43mslam12\u001b[49m\u001b[43m,\u001b[49m\u001b[43m \u001b[49m\u001b[43mclam12\u001b[49m\u001b[43m,\u001b[49m\u001b[43m \u001b[49m\u001b[43mC1a\u001b[49m\u001b[43m,\u001b[49m\u001b[43m \u001b[49m\u001b[43mC2a\u001b[49m\u001b[43m)\u001b[49m\n\u001b[1;32m    844\u001b[0m   \u001b[38;5;28;01mif\u001b[39;00m sig12 \u001b[38;5;241m>\u001b[39m\u001b[38;5;241m=\u001b[39m \u001b[38;5;241m0\u001b[39m:\n\u001b[1;32m    845\u001b[0m     \u001b[38;5;66;03m# Short lines (InverseStart sets salp2, calp2, dnm)\u001b[39;00m\n\u001b[1;32m    846\u001b[0m     s12x \u001b[38;5;241m=\u001b[39m sig12 \u001b[38;5;241m*\u001b[39m \u001b[38;5;28mself\u001b[39m\u001b[38;5;241m.\u001b[39m_b \u001b[38;5;241m*\u001b[39m dnm\n",
      "File \u001b[0;32m~/Logistic-optimization/.venv/lib/python3.8/site-packages/geographiclib/geodesic.py:506\u001b[0m, in \u001b[0;36mGeodesic._InverseStart\u001b[0;34m(self, sbet1, cbet1, dn1, sbet2, cbet2, dn2, lam12, slam12, clam12, C1a, C2a)\u001b[0m\n\u001b[1;32m    504\u001b[0m shortline \u001b[38;5;241m=\u001b[39m cbet12 \u001b[38;5;241m>\u001b[39m\u001b[38;5;241m=\u001b[39m \u001b[38;5;241m0\u001b[39m \u001b[38;5;129;01mand\u001b[39;00m sbet12 \u001b[38;5;241m<\u001b[39m \u001b[38;5;241m0.5\u001b[39m \u001b[38;5;129;01mand\u001b[39;00m cbet2 \u001b[38;5;241m*\u001b[39m lam12 \u001b[38;5;241m<\u001b[39m \u001b[38;5;241m0.5\u001b[39m\n\u001b[1;32m    505\u001b[0m \u001b[38;5;28;01mif\u001b[39;00m shortline:\n\u001b[0;32m--> 506\u001b[0m   sbetm2 \u001b[38;5;241m=\u001b[39m \u001b[43mMath\u001b[49m\u001b[38;5;241;43m.\u001b[39;49m\u001b[43msq\u001b[49m(sbet1 \u001b[38;5;241m+\u001b[39m sbet2)\n\u001b[1;32m    507\u001b[0m   \u001b[38;5;66;03m# sin((bet1+bet2)/2)^2\u001b[39;00m\n\u001b[1;32m    508\u001b[0m   \u001b[38;5;66;03m# =  (sbet1 + sbet2)^2 / ((sbet1 + sbet2)^2 + (cbet1 + cbet2)^2)\u001b[39;00m\n\u001b[1;32m    509\u001b[0m   sbetm2 \u001b[38;5;241m/\u001b[39m\u001b[38;5;241m=\u001b[39m sbetm2 \u001b[38;5;241m+\u001b[39m Math\u001b[38;5;241m.\u001b[39msq(cbet1 \u001b[38;5;241m+\u001b[39m cbet2)\n",
      "\u001b[0;31mKeyboardInterrupt\u001b[0m: "
     ]
    }
   ],
   "source": [
    "def calculate_distance(row):\n",
    "    origin = (float(row['Trip Origin'].split(',')[0]), float(row['Trip Origin'].split(',')[1]))\n",
    "    destination = (float(row['Trip Destination'].split(',')[0]), float(row['Trip Destination'].split(',')[1]))\n",
    "    distance = geodesic(origin, destination).miles\n",
    "    return distance\n",
    "df['Distance'] = df.apply(lambda row: calculate_distance(row), axis=1)\n",
    "\n"
   ]
  },
  {
   "cell_type": "code",
   "execution_count": 32,
   "metadata": {},
   "outputs": [
    {
     "data": {
      "text/plain": [
       "(534368, 5)"
      ]
     },
     "execution_count": 32,
     "metadata": {},
     "output_type": "execute_result"
    }
   ],
   "source": [
    "df.shape"
   ]
  },
  {
   "cell_type": "code",
   "execution_count": 60,
   "metadata": {},
   "outputs": [],
   "source": [
    "def calculate_speed(row):\n",
    "    distance = row['Distance']\n",
    "    start_time = pd.to_datetime(row['Trip Start Time'])\n",
    "    end_time = pd.to_datetime(row['Trip End Time'])\n",
    "    time_diff = end_time - start_time\n",
    "    if time_diff.total_seconds() == 0:\n",
    "        return 0  # or some other default value you want to use\n",
    "    speed = distance / time_diff.total_seconds() * 3600\n",
    "    return speed\n",
    "df['Speed'] = df.apply(lambda row: calculate_speed(row), axis=1)"
   ]
  },
  {
   "cell_type": "code",
   "execution_count": 81,
   "metadata": {},
   "outputs": [
    {
     "name": "stdout",
     "output_type": "stream",
     "text": [
      "Index(['Trip ID', 'Trip Origin', 'Trip Destination', 'Trip Start Time',\n",
      "       'Trip End Time'],\n",
      "      dtype='object')\n"
     ]
    }
   ],
   "source": [
    "print(df.columns)"
   ]
  },
  {
   "cell_type": "code",
   "execution_count": 4,
   "metadata": {},
   "outputs": [],
   "source": [
    "import datetime\n",
    "\n",
    "# Assuming df is your DataFrame\n",
    "\n",
    "# Extract the dates from the Trip Start Time column\n",
    "dates = [datetime.datetime.strptime(row['Trip Start Time'].split(' ')[0], '%Y-%m-%d') for index, row in df.iterrows()]"
   ]
  },
  {
   "cell_type": "code",
   "execution_count": 6,
   "metadata": {},
   "outputs": [
    {
     "ename": "KeyboardInterrupt",
     "evalue": "",
     "output_type": "error",
     "traceback": [
      "\u001b[0;31m---------------------------------------------------------------------------\u001b[0m",
      "\u001b[0;31mKeyboardInterrupt\u001b[0m                         Traceback (most recent call last)",
      "Cell \u001b[0;32mIn[6], line 1\u001b[0m\n\u001b[0;32m----> 1\u001b[0m df[\u001b[38;5;124m'\u001b[39m\u001b[38;5;124mTrip_Start_Date\u001b[39m\u001b[38;5;124m'\u001b[39m] \u001b[38;5;241m=\u001b[39m [datetime\u001b[38;5;241m.\u001b[39mdatetime\u001b[38;5;241m.\u001b[39mstrptime(row[\u001b[38;5;124m'\u001b[39m\u001b[38;5;124mTrip Start Time\u001b[39m\u001b[38;5;124m'\u001b[39m]\u001b[38;5;241m.\u001b[39msplit(\u001b[38;5;124m'\u001b[39m\u001b[38;5;124m \u001b[39m\u001b[38;5;124m'\u001b[39m)[\u001b[38;5;241m0\u001b[39m], \u001b[38;5;124m'\u001b[39m\u001b[38;5;124m%\u001b[39m\u001b[38;5;124mY-\u001b[39m\u001b[38;5;124m%\u001b[39m\u001b[38;5;124mm-\u001b[39m\u001b[38;5;132;01m%d\u001b[39;00m\u001b[38;5;124m'\u001b[39m) \u001b[38;5;28;01mfor\u001b[39;00m index, row \u001b[38;5;129;01min\u001b[39;00m df\u001b[38;5;241m.\u001b[39miterrows()]\n",
      "Cell \u001b[0;32mIn[6], line 1\u001b[0m, in \u001b[0;36m<listcomp>\u001b[0;34m(.0)\u001b[0m\n\u001b[0;32m----> 1\u001b[0m df[\u001b[38;5;124m'\u001b[39m\u001b[38;5;124mTrip_Start_Date\u001b[39m\u001b[38;5;124m'\u001b[39m] \u001b[38;5;241m=\u001b[39m [datetime\u001b[38;5;241m.\u001b[39mdatetime\u001b[38;5;241m.\u001b[39mstrptime(row[\u001b[38;5;124m'\u001b[39m\u001b[38;5;124mTrip Start Time\u001b[39m\u001b[38;5;124m'\u001b[39m]\u001b[38;5;241m.\u001b[39msplit(\u001b[38;5;124m'\u001b[39m\u001b[38;5;124m \u001b[39m\u001b[38;5;124m'\u001b[39m)[\u001b[38;5;241m0\u001b[39m], \u001b[38;5;124m'\u001b[39m\u001b[38;5;124m%\u001b[39m\u001b[38;5;124mY-\u001b[39m\u001b[38;5;124m%\u001b[39m\u001b[38;5;124mm-\u001b[39m\u001b[38;5;132;01m%d\u001b[39;00m\u001b[38;5;124m'\u001b[39m) \u001b[38;5;28;01mfor\u001b[39;00m index, row \u001b[38;5;129;01min\u001b[39;00m df\u001b[38;5;241m.\u001b[39miterrows()]\n",
      "File \u001b[0;32m~/Logistic-optimization/.venv/lib/python3.8/site-packages/pandas/core/frame.py:1400\u001b[0m, in \u001b[0;36mDataFrame.iterrows\u001b[0;34m(self)\u001b[0m\n\u001b[1;32m   1398\u001b[0m using_cow \u001b[38;5;241m=\u001b[39m using_copy_on_write()\n\u001b[1;32m   1399\u001b[0m \u001b[38;5;28;01mfor\u001b[39;00m k, v \u001b[38;5;129;01min\u001b[39;00m \u001b[38;5;28mzip\u001b[39m(\u001b[38;5;28mself\u001b[39m\u001b[38;5;241m.\u001b[39mindex, \u001b[38;5;28mself\u001b[39m\u001b[38;5;241m.\u001b[39mvalues):\n\u001b[0;32m-> 1400\u001b[0m     s \u001b[38;5;241m=\u001b[39m \u001b[43mklass\u001b[49m\u001b[43m(\u001b[49m\u001b[43mv\u001b[49m\u001b[43m,\u001b[49m\u001b[43m \u001b[49m\u001b[43mindex\u001b[49m\u001b[38;5;241;43m=\u001b[39;49m\u001b[43mcolumns\u001b[49m\u001b[43m,\u001b[49m\u001b[43m \u001b[49m\u001b[43mname\u001b[49m\u001b[38;5;241;43m=\u001b[39;49m\u001b[43mk\u001b[49m\u001b[43m)\u001b[49m\u001b[38;5;241m.\u001b[39m__finalize__(\u001b[38;5;28mself\u001b[39m)\n\u001b[1;32m   1401\u001b[0m     \u001b[38;5;28;01mif\u001b[39;00m using_cow \u001b[38;5;129;01mand\u001b[39;00m \u001b[38;5;28mself\u001b[39m\u001b[38;5;241m.\u001b[39m_mgr\u001b[38;5;241m.\u001b[39mis_single_block:\n\u001b[1;32m   1402\u001b[0m         s\u001b[38;5;241m.\u001b[39m_mgr\u001b[38;5;241m.\u001b[39madd_references(\u001b[38;5;28mself\u001b[39m\u001b[38;5;241m.\u001b[39m_mgr)  \u001b[38;5;66;03m# type: ignore[arg-type]\u001b[39;00m\n",
      "File \u001b[0;32m~/Logistic-optimization/.venv/lib/python3.8/site-packages/pandas/core/series.py:513\u001b[0m, in \u001b[0;36mSeries.__init__\u001b[0;34m(self, data, index, dtype, name, copy, fastpath)\u001b[0m\n\u001b[1;32m    511\u001b[0m manager \u001b[38;5;241m=\u001b[39m get_option(\u001b[38;5;124m\"\u001b[39m\u001b[38;5;124mmode.data_manager\u001b[39m\u001b[38;5;124m\"\u001b[39m)\n\u001b[1;32m    512\u001b[0m \u001b[38;5;28;01mif\u001b[39;00m manager \u001b[38;5;241m==\u001b[39m \u001b[38;5;124m\"\u001b[39m\u001b[38;5;124mblock\u001b[39m\u001b[38;5;124m\"\u001b[39m:\n\u001b[0;32m--> 513\u001b[0m     data \u001b[38;5;241m=\u001b[39m \u001b[43mSingleBlockManager\u001b[49m\u001b[38;5;241;43m.\u001b[39;49m\u001b[43mfrom_array\u001b[49m\u001b[43m(\u001b[49m\u001b[43mdata\u001b[49m\u001b[43m,\u001b[49m\u001b[43m \u001b[49m\u001b[43mindex\u001b[49m\u001b[43m,\u001b[49m\u001b[43m \u001b[49m\u001b[43mrefs\u001b[49m\u001b[38;5;241;43m=\u001b[39;49m\u001b[43mrefs\u001b[49m\u001b[43m)\u001b[49m\n\u001b[1;32m    514\u001b[0m \u001b[38;5;28;01melif\u001b[39;00m manager \u001b[38;5;241m==\u001b[39m \u001b[38;5;124m\"\u001b[39m\u001b[38;5;124marray\u001b[39m\u001b[38;5;124m\"\u001b[39m:\n\u001b[1;32m    515\u001b[0m     data \u001b[38;5;241m=\u001b[39m SingleArrayManager\u001b[38;5;241m.\u001b[39mfrom_array(data, index)\n",
      "File \u001b[0;32m~/Logistic-optimization/.venv/lib/python3.8/site-packages/pandas/core/internals/managers.py:1880\u001b[0m, in \u001b[0;36mSingleBlockManager.from_array\u001b[0;34m(cls, array, index, refs)\u001b[0m\n\u001b[1;32m   1873\u001b[0m \u001b[38;5;129m@classmethod\u001b[39m\n\u001b[1;32m   1874\u001b[0m \u001b[38;5;28;01mdef\u001b[39;00m \u001b[38;5;21mfrom_array\u001b[39m(\n\u001b[1;32m   1875\u001b[0m     \u001b[38;5;28mcls\u001b[39m, array: ArrayLike, index: Index, refs: BlockValuesRefs \u001b[38;5;241m|\u001b[39m \u001b[38;5;28;01mNone\u001b[39;00m \u001b[38;5;241m=\u001b[39m \u001b[38;5;28;01mNone\u001b[39;00m\n\u001b[1;32m   1876\u001b[0m ) \u001b[38;5;241m-\u001b[39m\u001b[38;5;241m>\u001b[39m SingleBlockManager:\n\u001b[1;32m   1877\u001b[0m \u001b[38;5;250m    \u001b[39m\u001b[38;5;124;03m\"\"\"\u001b[39;00m\n\u001b[1;32m   1878\u001b[0m \u001b[38;5;124;03m    Constructor for if we have an array that is not yet a Block.\u001b[39;00m\n\u001b[1;32m   1879\u001b[0m \u001b[38;5;124;03m    \"\"\"\u001b[39;00m\n\u001b[0;32m-> 1880\u001b[0m     block \u001b[38;5;241m=\u001b[39m \u001b[43mnew_block\u001b[49m\u001b[43m(\u001b[49m\u001b[43marray\u001b[49m\u001b[43m,\u001b[49m\u001b[43m \u001b[49m\u001b[43mplacement\u001b[49m\u001b[38;5;241;43m=\u001b[39;49m\u001b[38;5;28;43mslice\u001b[39;49m\u001b[43m(\u001b[49m\u001b[38;5;241;43m0\u001b[39;49m\u001b[43m,\u001b[49m\u001b[43m \u001b[49m\u001b[38;5;28;43mlen\u001b[39;49m\u001b[43m(\u001b[49m\u001b[43mindex\u001b[49m\u001b[43m)\u001b[49m\u001b[43m)\u001b[49m\u001b[43m,\u001b[49m\u001b[43m \u001b[49m\u001b[43mndim\u001b[49m\u001b[38;5;241;43m=\u001b[39;49m\u001b[38;5;241;43m1\u001b[39;49m\u001b[43m,\u001b[49m\u001b[43m \u001b[49m\u001b[43mrefs\u001b[49m\u001b[38;5;241;43m=\u001b[39;49m\u001b[43mrefs\u001b[49m\u001b[43m)\u001b[49m\n\u001b[1;32m   1881\u001b[0m     \u001b[38;5;28;01mreturn\u001b[39;00m \u001b[38;5;28mcls\u001b[39m(block, index)\n",
      "File \u001b[0;32m~/Logistic-optimization/.venv/lib/python3.8/site-packages/pandas/core/internals/blocks.py:2393\u001b[0m, in \u001b[0;36mnew_block\u001b[0;34m(values, placement, ndim, refs)\u001b[0m\n\u001b[1;32m   2390\u001b[0m \u001b[38;5;28;01mif\u001b[39;00m \u001b[38;5;129;01mnot\u001b[39;00m \u001b[38;5;28misinstance\u001b[39m(placement, BlockPlacement):\n\u001b[1;32m   2391\u001b[0m     placement \u001b[38;5;241m=\u001b[39m BlockPlacement(placement)\n\u001b[0;32m-> 2393\u001b[0m \u001b[43mcheck_ndim\u001b[49m\u001b[43m(\u001b[49m\u001b[43mvalues\u001b[49m\u001b[43m,\u001b[49m\u001b[43m \u001b[49m\u001b[43mplacement\u001b[49m\u001b[43m,\u001b[49m\u001b[43m \u001b[49m\u001b[43mndim\u001b[49m\u001b[43m)\u001b[49m\n\u001b[1;32m   2395\u001b[0m klass \u001b[38;5;241m=\u001b[39m get_block_type(values\u001b[38;5;241m.\u001b[39mdtype)\n\u001b[1;32m   2397\u001b[0m values \u001b[38;5;241m=\u001b[39m maybe_coerce_values(values)\n",
      "File \u001b[0;32m~/Logistic-optimization/.venv/lib/python3.8/site-packages/pandas/core/internals/blocks.py:2419\u001b[0m, in \u001b[0;36mcheck_ndim\u001b[0;34m(values, placement, ndim)\u001b[0m\n\u001b[1;32m   2401\u001b[0m \u001b[38;5;28;01mdef\u001b[39;00m \u001b[38;5;21mcheck_ndim\u001b[39m(values, placement: BlockPlacement, ndim: \u001b[38;5;28mint\u001b[39m) \u001b[38;5;241m-\u001b[39m\u001b[38;5;241m>\u001b[39m \u001b[38;5;28;01mNone\u001b[39;00m:\n\u001b[1;32m   2402\u001b[0m \u001b[38;5;250m    \u001b[39m\u001b[38;5;124;03m\"\"\"\u001b[39;00m\n\u001b[1;32m   2403\u001b[0m \u001b[38;5;124;03m    ndim inference and validation.\u001b[39;00m\n\u001b[1;32m   2404\u001b[0m \n\u001b[0;32m   (...)\u001b[0m\n\u001b[1;32m   2416\u001b[0m \u001b[38;5;124;03m    ValueError : the number of dimensions do not match\u001b[39;00m\n\u001b[1;32m   2417\u001b[0m \u001b[38;5;124;03m    \"\"\"\u001b[39;00m\n\u001b[0;32m-> 2419\u001b[0m     \u001b[38;5;28;01mif\u001b[39;00m \u001b[43mvalues\u001b[49m\u001b[38;5;241;43m.\u001b[39;49m\u001b[43mndim\u001b[49m \u001b[38;5;241m>\u001b[39m ndim:\n\u001b[1;32m   2420\u001b[0m         \u001b[38;5;66;03m# Check for both np.ndarray and ExtensionArray\u001b[39;00m\n\u001b[1;32m   2421\u001b[0m         \u001b[38;5;28;01mraise\u001b[39;00m \u001b[38;5;167;01mValueError\u001b[39;00m(\n\u001b[1;32m   2422\u001b[0m             \u001b[38;5;124m\"\u001b[39m\u001b[38;5;124mWrong number of dimensions. \u001b[39m\u001b[38;5;124m\"\u001b[39m\n\u001b[1;32m   2423\u001b[0m             \u001b[38;5;124mf\u001b[39m\u001b[38;5;124m\"\u001b[39m\u001b[38;5;124mvalues.ndim > ndim [\u001b[39m\u001b[38;5;132;01m{\u001b[39;00mvalues\u001b[38;5;241m.\u001b[39mndim\u001b[38;5;132;01m}\u001b[39;00m\u001b[38;5;124m > \u001b[39m\u001b[38;5;132;01m{\u001b[39;00mndim\u001b[38;5;132;01m}\u001b[39;00m\u001b[38;5;124m]\u001b[39m\u001b[38;5;124m\"\u001b[39m\n\u001b[1;32m   2424\u001b[0m         )\n\u001b[1;32m   2426\u001b[0m     \u001b[38;5;28;01mif\u001b[39;00m \u001b[38;5;129;01mnot\u001b[39;00m is_1d_only_ea_dtype(values\u001b[38;5;241m.\u001b[39mdtype):\n\u001b[1;32m   2427\u001b[0m         \u001b[38;5;66;03m# TODO(EA2D): special case not needed with 2D EAs\u001b[39;00m\n",
      "\u001b[0;31mKeyboardInterrupt\u001b[0m: "
     ]
    }
   ],
   "source": [
    "df['Trip_Start_Date'] = [datetime.datetime.strptime(row['Trip Start Time'].split(' ')[0], '%Y-%m-%d') for index, row in df.iterrows()]"
   ]
  },
  {
   "cell_type": "code",
   "execution_count": 101,
   "metadata": {},
   "outputs": [],
   "source": [
    "df.to_csv('date_all.csv', index=False)"
   ]
  },
  {
   "cell_type": "code",
   "execution_count": 88,
   "metadata": {},
   "outputs": [],
   "source": [
    "# Create a new column 'Weekday' to store the weekday or weekend\n",
    "df['Weekday'] = [1 if date.weekday() < 5 else 0 for date in dates]\n"
   ]
  },
  {
   "cell_type": "code",
   "execution_count": 89,
   "metadata": {},
   "outputs": [],
   "source": [
    "# Save the updated DataFrame to a new CSV file\n",
    "df.to_csv('dates.csv', index=False)"
   ]
  },
  {
   "cell_type": "code",
   "execution_count": 36,
   "metadata": {},
   "outputs": [],
   "source": [
    "# Simplified weather classification\n",
    "weather_classification = {\n",
    "    \"clear sky\": \"Sunny\",\n",
    "    \"few clouds\": \"Sunny\",  # Assuming few clouds still make for a generally sunny day\n",
    "    \"scattered clouds\": \"Cloudy\",\n",
    "    \"broken clouds\": \"Cloudy\",\n",
    "    \"shower rain\": \"Rainy\",\n",
    "    \"rain\": \"Rainy\",\n",
    "    \"thunderstorm\": \"Rainy\",  # Thunderstorms typically involve rain\n",
    "    \"snow\": \"Rainy\",         # Treating snow as rainy for simplicity, adjust as needed\n",
    "    \"mist\": \"Cloudy\",        # Mist can be considered a form of cloudiness\n",
    "    # Add more mappings or adjust existing ones as per your preference\n",
    "}"
   ]
  },
  {
   "cell_type": "code",
   "execution_count": 9,
   "metadata": {},
   "outputs": [],
   "source": [
    "import holidays\n",
    "import datetime\n",
    "df = pd.read_csv('date_all.csv', encoding='utf-8')\n"
   ]
  },
  {
   "cell_type": "code",
   "execution_count": 13,
   "metadata": {},
   "outputs": [],
   "source": [
    "df.dropna(subset=['Trip Start Time'], inplace=True)"
   ]
  },
  {
   "cell_type": "code",
   "execution_count": 15,
   "metadata": {},
   "outputs": [
    {
     "data": {
      "text/plain": [
       "Trip ID             0\n",
       "Trip Origin         0\n",
       "Trip Destination    0\n",
       "Trip Start Time     0\n",
       "Trip End Time       0\n",
       "Weekday             0\n",
       "Trip_Start_Date     0\n",
       "dtype: int64"
      ]
     },
     "execution_count": 15,
     "metadata": {},
     "output_type": "execute_result"
    }
   ],
   "source": [
    "missingCount = df.isnull().sum()\n",
    "missingCount "
   ]
  },
  {
   "cell_type": "code",
   "execution_count": 17,
   "metadata": {},
   "outputs": [],
   "source": [
    "\n",
    "# Define the holidays for Nigeria\n",
    "ng_holidays = holidays.NG()\n",
    "\n",
    "def is_holiday(date):\n",
    "    if date is None:\n",
    "        return 0  # or any other default value you want\n",
    "    holiday_list = ng_holidays.get(str(date))\n",
    "    if holiday_list is None:\n",
    "        return 0  # or any other default value you want\n",
    "    return 1 if str(date) in holiday_list else 0\n",
    "\n",
    "df['Holiday'] = df['Trip Start Time'].apply(lambda x: is_holiday(x))"
   ]
  },
  {
   "cell_type": "code",
   "execution_count": 18,
   "metadata": {},
   "outputs": [],
   "source": [
    "df.to_csv('holiday.csv', index=False)"
   ]
  },
  {
   "cell_type": "code",
   "execution_count": 98,
   "metadata": {},
   "outputs": [
    {
     "name": "stdout",
     "output_type": "stream",
     "text": [
      "0\n"
     ]
    }
   ],
   "source": [
    "date = datetime.date(2023, 1, 1)  # January 1, 2023\n",
    "print(is_holiday(date))  # Output: 1 if January 1 is a holiday, 0 otherwise"
   ]
  },
  {
   "cell_type": "code",
   "execution_count": 19,
   "metadata": {},
   "outputs": [],
   "source": [
    "\n",
    "import requests\n",
    "import datetime\n",
    "\n",
    "# Define the OpenWeatherMap API key\n",
    "api_key = \"566d6148fa21834601bedfbc585af65c\"\n",
    "\n",
    "# Define the function to check if it rains on a date in Nigeria\n",
    "def is_raining(date):\n",
    "    # Convert the date to a string in the format YYYY-MM-DD\n",
    "    date_str = date.strftime(\"%Y-%m-%d\")\n",
    "\n",
    "    # Fetch the weather data for the given date\n",
    "    response = requests.get(f\"http://api.openweathermap.org/data/2.5/weather?q=Nigeria&dt={date_str}&appid={api_key}\")\n",
    "\n",
    "    # Check if the API response is valid\n",
    "    if response.status_code == 200:\n",
    "        # Try to get the weather data from the response\n",
    "        try:\n",
    "            weather_data = response.json()\n",
    "            # Check if it rains on the date\n",
    "            if \"rain\" in weather_data.get(\"weather\", [])[0].get(\"main\", \"\"):\n",
    "                return 1\n",
    "            else:\n",
    "                return 0\n",
    "        except KeyError:\n",
    "            # If the API response is not valid, return 0\n",
    "            return 0\n",
    "    else:\n",
    "        # If the API response is not valid, return 0\n",
    "        return 0"
   ]
  },
  {
   "cell_type": "code",
   "execution_count": 20,
   "metadata": {},
   "outputs": [
    {
     "name": "stdout",
     "output_type": "stream",
     "text": [
      "0\n"
     ]
    }
   ],
   "source": [
    "date = datetime.date(2023, 1, 1)\n",
    "print(is_raining(date))  # Output: 1 if it rains on January 1, 2023, 0 otherwise"
   ]
  },
  {
   "cell_type": "code",
   "execution_count": 22,
   "metadata": {},
   "outputs": [],
   "source": [
    "import datetime\n",
    "\n",
    "# Convert the \"Trip Start Time\" and \"Trip End Time\" columns to datetime objects\n",
    "start_times = []\n",
    "end_times = []\n",
    "for index, row in df.iterrows():\n",
    "    start_times.append(datetime.datetime.strptime(row['Trip Start Time'], '%Y-%m-%d %H:%M:%S'))\n",
    "    end_times.append(datetime.datetime.strptime(row['Trip End Time'], '%Y-%m-%d %H:%M:%S'))"
   ]
  },
  {
   "cell_type": "code",
   "execution_count": 23,
   "metadata": {},
   "outputs": [],
   "source": [
    "# Get the unique dates from the start and end times\n",
    "unique_dates = set()\n",
    "for start_time in start_times:\n",
    "    unique_dates.add(start_time.date())\n",
    "for end_time in end_times:\n",
    "    unique_dates.add(end_time.date())"
   ]
  },
  {
   "cell_type": "code",
   "execution_count": 24,
   "metadata": {},
   "outputs": [
    {
     "data": {
      "text/plain": [
       "[datetime.date(2021, 7, 27),\n",
       " datetime.date(2021, 8, 13),\n",
       " datetime.date(2021, 9, 28),\n",
       " datetime.date(2021, 11, 5),\n",
       " datetime.date(2021, 7, 10),\n",
       " datetime.date(2022, 3, 23),\n",
       " datetime.date(2021, 10, 12),\n",
       " datetime.date(2021, 10, 1),\n",
       " datetime.date(2021, 9, 13),\n",
       " datetime.date(2022, 1, 15),\n",
       " datetime.date(2022, 1, 28),\n",
       " datetime.date(2022, 1, 14),\n",
       " datetime.date(2022, 1, 11),\n",
       " datetime.date(2021, 8, 18),\n",
       " datetime.date(2021, 7, 13),\n",
       " datetime.date(2022, 2, 23),\n",
       " datetime.date(2021, 10, 30),\n",
       " datetime.date(2021, 7, 2),\n",
       " datetime.date(2021, 8, 4),\n",
       " datetime.date(2021, 8, 16),\n",
       " datetime.date(2021, 10, 24),\n",
       " datetime.date(2021, 11, 21),\n",
       " datetime.date(2021, 9, 3),\n",
       " datetime.date(2022, 5, 19),\n",
       " datetime.date(2021, 9, 19),\n",
       " datetime.date(2021, 9, 24),\n",
       " datetime.date(2021, 8, 30),\n",
       " datetime.date(2021, 12, 12),\n",
       " datetime.date(2021, 11, 4),\n",
       " datetime.date(2021, 12, 22),\n",
       " datetime.date(2022, 4, 13),\n",
       " datetime.date(2021, 10, 7),\n",
       " datetime.date(2021, 8, 8),\n",
       " datetime.date(2021, 10, 25),\n",
       " datetime.date(2022, 6, 13),\n",
       " datetime.date(2022, 1, 7),\n",
       " datetime.date(2022, 2, 24),\n",
       " datetime.date(2022, 2, 19),\n",
       " datetime.date(2021, 12, 17),\n",
       " datetime.date(2022, 3, 11),\n",
       " datetime.date(2021, 8, 19),\n",
       " datetime.date(2021, 11, 19),\n",
       " datetime.date(2021, 7, 14),\n",
       " datetime.date(2022, 3, 4),\n",
       " datetime.date(2021, 7, 29),\n",
       " datetime.date(2021, 11, 7),\n",
       " datetime.date(2022, 1, 24),\n",
       " datetime.date(2021, 7, 31),\n",
       " datetime.date(2021, 7, 21),\n",
       " datetime.date(2021, 9, 26),\n",
       " datetime.date(2022, 1, 18),\n",
       " datetime.date(2021, 9, 16),\n",
       " datetime.date(2021, 11, 3),\n",
       " datetime.date(2021, 11, 1),\n",
       " datetime.date(2021, 10, 18),\n",
       " datetime.date(2021, 12, 20),\n",
       " datetime.date(2021, 10, 21),\n",
       " datetime.date(2021, 11, 24),\n",
       " datetime.date(2022, 2, 22),\n",
       " datetime.date(2021, 7, 3),\n",
       " datetime.date(2022, 1, 19),\n",
       " datetime.date(2021, 8, 20),\n",
       " datetime.date(2021, 11, 13),\n",
       " datetime.date(2022, 4, 30),\n",
       " datetime.date(2021, 9, 2),\n",
       " datetime.date(2021, 12, 1),\n",
       " datetime.date(2021, 10, 11),\n",
       " datetime.date(2021, 11, 15),\n",
       " datetime.date(2022, 3, 28),\n",
       " datetime.date(2021, 11, 29),\n",
       " datetime.date(2021, 8, 10),\n",
       " datetime.date(2021, 10, 5),\n",
       " datetime.date(2021, 8, 9),\n",
       " datetime.date(2021, 10, 6),\n",
       " datetime.date(2022, 3, 7),\n",
       " datetime.date(2021, 12, 2),\n",
       " datetime.date(2021, 12, 26),\n",
       " datetime.date(2022, 2, 26),\n",
       " datetime.date(2021, 12, 15),\n",
       " datetime.date(2021, 7, 7),\n",
       " datetime.date(2021, 11, 12),\n",
       " datetime.date(2022, 3, 17),\n",
       " datetime.date(2021, 10, 27),\n",
       " datetime.date(2022, 2, 6),\n",
       " datetime.date(2021, 7, 23),\n",
       " datetime.date(2022, 1, 4),\n",
       " datetime.date(2021, 9, 30),\n",
       " datetime.date(2021, 8, 25),\n",
       " datetime.date(2021, 12, 6),\n",
       " datetime.date(2021, 12, 31),\n",
       " datetime.date(2021, 10, 22),\n",
       " datetime.date(2022, 3, 25),\n",
       " datetime.date(2022, 3, 31),\n",
       " datetime.date(2022, 3, 10),\n",
       " datetime.date(2021, 12, 24),\n",
       " datetime.date(2021, 10, 26),\n",
       " datetime.date(2021, 7, 30),\n",
       " datetime.date(2021, 12, 16),\n",
       " datetime.date(2022, 2, 9),\n",
       " datetime.date(2021, 11, 17),\n",
       " datetime.date(2022, 5, 30),\n",
       " datetime.date(2021, 10, 16),\n",
       " datetime.date(2021, 9, 27),\n",
       " datetime.date(2022, 4, 22),\n",
       " datetime.date(2022, 1, 6),\n",
       " datetime.date(2021, 8, 12),\n",
       " datetime.date(2021, 10, 17),\n",
       " datetime.date(2021, 9, 11),\n",
       " datetime.date(2021, 12, 23),\n",
       " datetime.date(2021, 12, 25),\n",
       " datetime.date(2021, 7, 11),\n",
       " datetime.date(2021, 10, 13),\n",
       " datetime.date(2021, 9, 7),\n",
       " datetime.date(2022, 1, 27),\n",
       " datetime.date(2022, 6, 3),\n",
       " datetime.date(2021, 7, 28),\n",
       " datetime.date(2021, 11, 8),\n",
       " datetime.date(2021, 10, 4),\n",
       " datetime.date(2022, 4, 11),\n",
       " datetime.date(2021, 9, 20),\n",
       " datetime.date(2021, 9, 22),\n",
       " datetime.date(2021, 8, 1),\n",
       " datetime.date(2021, 8, 5),\n",
       " datetime.date(2021, 7, 26),\n",
       " datetime.date(2022, 2, 3),\n",
       " datetime.date(2021, 12, 18),\n",
       " datetime.date(2021, 7, 24),\n",
       " datetime.date(2021, 8, 2),\n",
       " datetime.date(2021, 10, 19),\n",
       " datetime.date(2021, 10, 2),\n",
       " datetime.date(2021, 12, 8),\n",
       " datetime.date(2021, 12, 4),\n",
       " datetime.date(2021, 7, 9),\n",
       " datetime.date(2021, 11, 20),\n",
       " datetime.date(2022, 2, 4),\n",
       " datetime.date(2021, 8, 29),\n",
       " datetime.date(2021, 12, 9),\n",
       " datetime.date(2021, 7, 25),\n",
       " datetime.date(2021, 9, 18),\n",
       " datetime.date(2022, 2, 14),\n",
       " datetime.date(2021, 8, 15),\n",
       " datetime.date(2021, 7, 8),\n",
       " datetime.date(2021, 7, 6),\n",
       " datetime.date(2021, 8, 22),\n",
       " datetime.date(2021, 8, 31),\n",
       " datetime.date(2021, 8, 28),\n",
       " datetime.date(2021, 8, 14),\n",
       " datetime.date(2021, 9, 14),\n",
       " datetime.date(2021, 7, 18),\n",
       " datetime.date(2022, 3, 22),\n",
       " datetime.date(2021, 11, 18),\n",
       " datetime.date(2021, 12, 11),\n",
       " datetime.date(2021, 12, 30),\n",
       " datetime.date(2022, 3, 29),\n",
       " datetime.date(2022, 4, 4),\n",
       " datetime.date(2022, 4, 18),\n",
       " datetime.date(2021, 12, 28),\n",
       " datetime.date(2021, 12, 29),\n",
       " datetime.date(2021, 9, 23),\n",
       " datetime.date(2021, 10, 9),\n",
       " datetime.date(2021, 12, 7),\n",
       " datetime.date(2021, 11, 16),\n",
       " datetime.date(2022, 1, 2),\n",
       " datetime.date(2021, 8, 27),\n",
       " datetime.date(2021, 11, 27),\n",
       " datetime.date(2021, 7, 4),\n",
       " datetime.date(2021, 9, 21),\n",
       " datetime.date(2022, 1, 21),\n",
       " datetime.date(2021, 10, 23),\n",
       " datetime.date(2022, 2, 25),\n",
       " datetime.date(2021, 8, 11),\n",
       " datetime.date(2022, 1, 3),\n",
       " datetime.date(2021, 7, 12),\n",
       " datetime.date(2021, 9, 9),\n",
       " datetime.date(2022, 4, 25),\n",
       " datetime.date(2021, 9, 6),\n",
       " datetime.date(2022, 2, 7),\n",
       " datetime.date(2021, 11, 22),\n",
       " datetime.date(2021, 7, 17),\n",
       " datetime.date(2021, 11, 14),\n",
       " datetime.date(2021, 8, 3),\n",
       " datetime.date(2021, 8, 26),\n",
       " datetime.date(2021, 9, 25),\n",
       " datetime.date(2022, 1, 8),\n",
       " datetime.date(2021, 10, 29),\n",
       " datetime.date(2021, 8, 24),\n",
       " datetime.date(2022, 4, 19),\n",
       " datetime.date(2021, 11, 23),\n",
       " datetime.date(2021, 8, 21),\n",
       " datetime.date(2021, 10, 10),\n",
       " datetime.date(2022, 1, 1),\n",
       " datetime.date(2021, 12, 5),\n",
       " datetime.date(2022, 1, 13),\n",
       " datetime.date(2021, 10, 14),\n",
       " datetime.date(2022, 4, 16),\n",
       " datetime.date(2021, 9, 5),\n",
       " datetime.date(2021, 9, 17),\n",
       " datetime.date(2022, 2, 11),\n",
       " datetime.date(2021, 8, 7),\n",
       " datetime.date(2021, 7, 15),\n",
       " datetime.date(2021, 11, 9),\n",
       " datetime.date(2021, 8, 17),\n",
       " datetime.date(2022, 1, 29),\n",
       " datetime.date(2021, 11, 11),\n",
       " datetime.date(2022, 2, 15),\n",
       " datetime.date(2021, 9, 4),\n",
       " datetime.date(2021, 10, 8),\n",
       " datetime.date(2021, 11, 25),\n",
       " datetime.date(2021, 12, 21),\n",
       " datetime.date(2021, 7, 22),\n",
       " datetime.date(2022, 1, 12),\n",
       " datetime.date(2022, 3, 15),\n",
       " datetime.date(2021, 11, 10),\n",
       " datetime.date(2022, 3, 5),\n",
       " datetime.date(2021, 7, 19),\n",
       " datetime.date(2022, 4, 10),\n",
       " datetime.date(2022, 2, 27),\n",
       " datetime.date(2021, 9, 10),\n",
       " datetime.date(2021, 12, 27),\n",
       " datetime.date(2021, 12, 13),\n",
       " datetime.date(2021, 11, 2),\n",
       " datetime.date(2022, 2, 5),\n",
       " datetime.date(2021, 12, 14),\n",
       " datetime.date(2022, 1, 25),\n",
       " datetime.date(2022, 1, 17),\n",
       " datetime.date(2021, 11, 30),\n",
       " datetime.date(2021, 7, 5),\n",
       " datetime.date(2022, 6, 4),\n",
       " datetime.date(2021, 9, 1),\n",
       " datetime.date(2021, 7, 20),\n",
       " datetime.date(2021, 12, 19),\n",
       " datetime.date(2021, 11, 28),\n",
       " datetime.date(2021, 12, 3),\n",
       " datetime.date(2021, 9, 29),\n",
       " datetime.date(2021, 10, 31),\n",
       " datetime.date(2022, 2, 16),\n",
       " datetime.date(2022, 1, 10),\n",
       " datetime.date(2021, 7, 16),\n",
       " datetime.date(2021, 10, 3),\n",
       " datetime.date(2022, 2, 28),\n",
       " datetime.date(2022, 1, 20),\n",
       " datetime.date(2022, 1, 5),\n",
       " datetime.date(2021, 12, 10),\n",
       " datetime.date(2021, 10, 15),\n",
       " datetime.date(2021, 8, 6),\n",
       " datetime.date(2021, 10, 28),\n",
       " datetime.date(2022, 2, 17),\n",
       " datetime.date(2021, 7, 1),\n",
       " datetime.date(2022, 1, 31),\n",
       " datetime.date(2021, 10, 20),\n",
       " datetime.date(2021, 11, 6),\n",
       " datetime.date(2021, 9, 8),\n",
       " datetime.date(2021, 9, 12),\n",
       " datetime.date(2021, 9, 15),\n",
       " datetime.date(2021, 8, 23),\n",
       " datetime.date(2021, 11, 26)]"
      ]
     },
     "execution_count": 24,
     "metadata": {},
     "output_type": "execute_result"
    }
   ],
   "source": [
    "# Convert the set of unique dates back to a list\n",
    "unique_dates = list(unique_dates)\n",
    "unique_dates"
   ]
  },
  {
   "cell_type": "code",
   "execution_count": 25,
   "metadata": {},
   "outputs": [
    {
     "name": "stdout",
     "output_type": "stream",
     "text": [
      "256\n"
     ]
    }
   ],
   "source": [
    "num_unique_dates = len(unique_dates)\n",
    "print(num_unique_dates)"
   ]
  },
  {
   "cell_type": "code",
   "execution_count": 26,
   "metadata": {},
   "outputs": [
    {
     "name": "stdout",
     "output_type": "stream",
     "text": [
      "        Trip ID                         Trip Origin  \\\n",
      "0        391996  6.508813001668548,3.37740316890347   \n",
      "1        391997                 6.4316714,3.4555375   \n",
      "2        391998         6.631679399999999,3.3388976   \n",
      "3        391999         6.572757200000001,3.3677082   \n",
      "4        392001                 6.6010417,3.2766339   \n",
      "...         ...                                 ...   \n",
      "534363  1637696         6.448218499999999,3.4772075   \n",
      "534364  1637702         6.442320899999999,3.4736868   \n",
      "534365  1637704                  6.4281982,3.492248   \n",
      "534366  1637705                 6.5869296,3.3632966   \n",
      "534367  1637709         6.647209999999999,3.4851489   \n",
      "\n",
      "                            Trip Destination      Trip Start Time  \\\n",
      "0                6.650969799999999,3.3450307  2021-07-01 07:28:04   \n",
      "1            6.4280814653326,3.4721885847586  2021-07-01 06:38:04   \n",
      "2                6.508324099999999,3.3590397  2021-07-01 06:21:02   \n",
      "3                6.584881099999999,3.3614073  2021-07-01 07:16:07   \n",
      "4                        6.4501069,3.3916154  2021-07-01 09:30:59   \n",
      "...                                      ...                  ...   \n",
      "534363   6.437787399999999,3.481670199999999  2021-12-30 20:35:06   \n",
      "534364  6.436589333407897,3.5559738188407835  2021-12-30 20:48:13   \n",
      "534365           6.448088500000001,3.4775747  2021-12-30 20:51:45   \n",
      "534366           6.637906899999999,3.3339515  2021-12-30 20:48:50   \n",
      "534367   6.454915198823159,3.555839938365194  2021-12-30 20:55:38   \n",
      "\n",
      "              Trip End Time  Weekday Trip_Start_Date  Holiday  rain  \n",
      "0       2021-07-01 07:29:37        1      2021-07-01        0     0  \n",
      "1       2021-07-01 07:07:28        1      2021-07-01        0     0  \n",
      "2       2021-07-01 07:02:23        1      2021-07-01        0     0  \n",
      "3       2021-07-01 07:29:42        1      2021-07-01        0     0  \n",
      "4       2021-07-01 09:34:36        1      2021-07-01        0     0  \n",
      "...                     ...      ...             ...      ...   ...  \n",
      "534363  2021-12-30 21:02:59        1      2021-12-30        0     0  \n",
      "534364  2021-12-30 21:43:49        1      2021-12-30        0     0  \n",
      "534365  2021-12-30 21:41:32        1      2021-12-30        0     0  \n",
      "534366  2021-12-30 21:08:28        1      2021-12-30        0     0  \n",
      "534367  2021-12-30 22:25:00        1      2021-12-30        0     0  \n",
      "\n",
      "[534368 rows x 9 columns]\n"
     ]
    }
   ],
   "source": [
    "# Create a dictionary to store the results\n",
    "rain_results = {}\n",
    "\n",
    "# Define the function to get the weather data for a given date\n",
    "def get_weather_data(date):\n",
    "    response = requests.get(f\"http://api.openweathermap.org/data/2.5/weather?q=Nigeria&dt={date}&appid={api_key}\")\n",
    "    return response.json()\n",
    "\n",
    "# Loop through the unique dates\n",
    "for date in unique_dates:\n",
    "    # Get the weather data for the date\n",
    "    weather_data = get_weather_data(date)\n",
    "\n",
    "    # Check if it rains on the date\n",
    "    if \"rain\" in weather_data.get(\"weather\", [])[0].get(\"main\", \"\"):\n",
    "        # Add the date to the list of raining days\n",
    "        rain_results[date] = 1\n",
    "    else:\n",
    "        # Add the date to the list of non-raining days\n",
    "        rain_results[date] = 0\n",
    "\n",
    "# Add the \"rain\" column to the original DataFrame\n",
    "df['rain'] = [rain_results.get(datetime.datetime.strptime(date, '%Y-%m-%d %H:%M:%S').date(), False) for date in df['Trip Start Time']]\n",
    "\n",
    "print(df)\n"
   ]
  },
  {
   "cell_type": "code",
   "execution_count": 27,
   "metadata": {},
   "outputs": [],
   "source": [
    "df.to_csv('whether.csv', index=False)"
   ]
  },
  {
   "cell_type": "code",
   "execution_count": 29,
   "metadata": {},
   "outputs": [],
   "source": [
    "def calculate_distance(row):\n",
    "    origin = (float(row['Trip Origin'].split(',')[0]), float(row['Trip Origin'].split(',')[1]))\n",
    "    destination = (float(row['Trip Destination'].split(',')[0]), float(row['Trip Destination'].split(',')[1]))\n",
    "    distance = geodesic(origin, destination).miles\n",
    "    return distance\n",
    "df['Distance'] = df.apply(lambda row: calculate_distance(row), axis=1)"
   ]
  },
  {
   "cell_type": "code",
   "execution_count": 30,
   "metadata": {},
   "outputs": [],
   "source": [
    "df.to_csv('distance.csv', index=False)"
   ]
  },
  {
   "cell_type": "code",
   "execution_count": 28,
   "metadata": {},
   "outputs": [],
   "source": [
    "# Calculate the distance and speed\n",
    "df['Distance'] = df.apply(lambda row: calculate_distance(row), axis=1)\n",
    "df['Speed'] = df.apply(lambda row: calculate_speed(row), axis=1)\n",
    "\n",
    "# Check if it's a holiday\n",
    "df['Holiday'] = df['Trip Start Time'].apply(check_holiday)\n",
    "df['Daytype'] = df['Trip Start Time'].apply(lambda x: get_weekday_or_weekend(pd.to_datetime(x)))\n",
    "\n",
    "# Save the updated DataFrame to the CSV file\n",
    "df.to_csv(path, index=False, columns=['column1', 'column2', 'column3'])"
   ]
  },
  {
   "cell_type": "code",
   "execution_count": 31,
   "metadata": {},
   "outputs": [],
   "source": [
    "def calculate_speed(row):\n",
    "    distance = row['Distance']\n",
    "    start_time = pd.to_datetime(row['Trip Start Time'])\n",
    "    end_time = pd.to_datetime(row['Trip End Time'])\n",
    "    time_diff = end_time - start_time\n",
    "    if time_diff.total_seconds() == 0:\n",
    "        return 0  # or some other default value you want to use\n",
    "    speed = distance / time_diff.total_seconds() * 3600\n",
    "    return speed\n"
   ]
  },
  {
   "cell_type": "code",
   "execution_count": 32,
   "metadata": {},
   "outputs": [],
   "source": [
    "df['Speed'] = df.apply(lambda row: calculate_speed(row), axis=1)"
   ]
  },
  {
   "cell_type": "code",
   "execution_count": 33,
   "metadata": {},
   "outputs": [],
   "source": [
    "df.to_csv('speed.csv', index=False)"
   ]
  },
  {
   "cell_type": "code",
   "execution_count": 11,
   "metadata": {},
   "outputs": [],
   "source": [
    "import holidays\n",
    "import datetime\n",
    "import pandas as pd\n",
    "df = pd.read_csv('/home/miki/Logistic-optimization/driver_locations_during_request.csv', encoding='utf-8')"
   ]
  },
  {
   "cell_type": "code",
   "execution_count": 13,
   "metadata": {},
   "outputs": [],
   "source": [
    "df = df.drop(['created_at', 'updated_at'], axis=1)"
   ]
  },
  {
   "cell_type": "code",
   "execution_count": 15,
   "metadata": {},
   "outputs": [],
   "source": [
    "df.to_csv('request.csv', index=False)"
   ]
  },
  {
   "cell_type": "code",
   "execution_count": 14,
   "metadata": {},
   "outputs": [
    {
     "data": {
      "text/plain": [
       "id               0\n",
       "order_id         0\n",
       "driver_id        0\n",
       "driver_action    0\n",
       "lat              0\n",
       "lng              0\n",
       "dtype: int64"
      ]
     },
     "execution_count": 14,
     "metadata": {},
     "output_type": "execute_result"
    }
   ],
   "source": [
    "missingCount = df.isnull().sum()\n",
    "missingCount"
   ]
  },
  {
   "cell_type": "code",
   "execution_count": 7,
   "metadata": {},
   "outputs": [],
   "source": [
    "df.dropna(subset=['created_at'], inplace=True)\n",
    "df.dropna(subset=['updated_at'], inplace=True)"
   ]
  },
  {
   "cell_type": "code",
   "execution_count": 8,
   "metadata": {},
   "outputs": [
    {
     "data": {
      "text/plain": [
       "id               0.0\n",
       "order_id         0.0\n",
       "driver_id        0.0\n",
       "driver_action    0.0\n",
       "lat              0.0\n",
       "lng              0.0\n",
       "created_at       0.0\n",
       "updated_at       0.0\n",
       "dtype: float64"
      ]
     },
     "execution_count": 8,
     "metadata": {},
     "output_type": "execute_result"
    }
   ],
   "source": [
    "missingCount = df.isnull().sum()\n",
    "missingCount"
   ]
  },
  {
   "cell_type": "code",
   "execution_count": 9,
   "metadata": {},
   "outputs": [],
   "source": [
    "df.to_csv('miki.csv', index=False)"
   ]
  },
  {
   "cell_type": "code",
   "execution_count": 72,
   "metadata": {},
   "outputs": [
    {
     "ename": "KeyboardInterrupt",
     "evalue": "",
     "output_type": "error",
     "traceback": [
      "\u001b[0;31m---------------------------------------------------------------------------\u001b[0m",
      "\u001b[0;31mKeyboardInterrupt\u001b[0m                         Traceback (most recent call last)",
      "Cell \u001b[0;32mIn[72], line 2\u001b[0m\n\u001b[1;32m      1\u001b[0m \u001b[38;5;66;03m# Assume df is your existing DataFrame\u001b[39;00m\n\u001b[0;32m----> 2\u001b[0m df[\u001b[38;5;124m'\u001b[39m\u001b[38;5;124mDistance\u001b[39m\u001b[38;5;124m'\u001b[39m] \u001b[38;5;241m=\u001b[39m \u001b[43mdf\u001b[49m\u001b[38;5;241;43m.\u001b[39;49m\u001b[43mapply\u001b[49m\u001b[43m(\u001b[49m\u001b[38;5;28;43;01mlambda\u001b[39;49;00m\u001b[43m \u001b[49m\u001b[43mrow\u001b[49m\u001b[43m:\u001b[49m\u001b[43m \u001b[49m\u001b[43mcalculate_distance\u001b[49m\u001b[43m(\u001b[49m\u001b[43mrow\u001b[49m\u001b[43m)\u001b[49m\u001b[43m,\u001b[49m\u001b[43m \u001b[49m\u001b[43maxis\u001b[49m\u001b[38;5;241;43m=\u001b[39;49m\u001b[38;5;241;43m1\u001b[39;49m\u001b[43m)\u001b[49m\n\u001b[1;32m      3\u001b[0m df[\u001b[38;5;124m'\u001b[39m\u001b[38;5;124mSpeed\u001b[39m\u001b[38;5;124m'\u001b[39m] \u001b[38;5;241m=\u001b[39m df\u001b[38;5;241m.\u001b[39mapply(\u001b[38;5;28;01mlambda\u001b[39;00m row: calculate_speed(row), axis\u001b[38;5;241m=\u001b[39m\u001b[38;5;241m1\u001b[39m)\n",
      "File \u001b[0;32m~/Logistic-optimization/.venv/lib/python3.8/site-packages/pandas/core/frame.py:9423\u001b[0m, in \u001b[0;36mDataFrame.apply\u001b[0;34m(self, func, axis, raw, result_type, args, **kwargs)\u001b[0m\n\u001b[1;32m   9412\u001b[0m \u001b[38;5;28;01mfrom\u001b[39;00m \u001b[38;5;21;01mpandas\u001b[39;00m\u001b[38;5;21;01m.\u001b[39;00m\u001b[38;5;21;01mcore\u001b[39;00m\u001b[38;5;21;01m.\u001b[39;00m\u001b[38;5;21;01mapply\u001b[39;00m \u001b[38;5;28;01mimport\u001b[39;00m frame_apply\n\u001b[1;32m   9414\u001b[0m op \u001b[38;5;241m=\u001b[39m frame_apply(\n\u001b[1;32m   9415\u001b[0m     \u001b[38;5;28mself\u001b[39m,\n\u001b[1;32m   9416\u001b[0m     func\u001b[38;5;241m=\u001b[39mfunc,\n\u001b[0;32m   (...)\u001b[0m\n\u001b[1;32m   9421\u001b[0m     kwargs\u001b[38;5;241m=\u001b[39mkwargs,\n\u001b[1;32m   9422\u001b[0m )\n\u001b[0;32m-> 9423\u001b[0m \u001b[38;5;28;01mreturn\u001b[39;00m \u001b[43mop\u001b[49m\u001b[38;5;241;43m.\u001b[39;49m\u001b[43mapply\u001b[49m\u001b[43m(\u001b[49m\u001b[43m)\u001b[49m\u001b[38;5;241m.\u001b[39m__finalize__(\u001b[38;5;28mself\u001b[39m, method\u001b[38;5;241m=\u001b[39m\u001b[38;5;124m\"\u001b[39m\u001b[38;5;124mapply\u001b[39m\u001b[38;5;124m\"\u001b[39m)\n",
      "File \u001b[0;32m~/Logistic-optimization/.venv/lib/python3.8/site-packages/pandas/core/apply.py:678\u001b[0m, in \u001b[0;36mFrameApply.apply\u001b[0;34m(self)\u001b[0m\n\u001b[1;32m    675\u001b[0m \u001b[38;5;28;01melif\u001b[39;00m \u001b[38;5;28mself\u001b[39m\u001b[38;5;241m.\u001b[39mraw:\n\u001b[1;32m    676\u001b[0m     \u001b[38;5;28;01mreturn\u001b[39;00m \u001b[38;5;28mself\u001b[39m\u001b[38;5;241m.\u001b[39mapply_raw()\n\u001b[0;32m--> 678\u001b[0m \u001b[38;5;28;01mreturn\u001b[39;00m \u001b[38;5;28;43mself\u001b[39;49m\u001b[38;5;241;43m.\u001b[39;49m\u001b[43mapply_standard\u001b[49m\u001b[43m(\u001b[49m\u001b[43m)\u001b[49m\n",
      "File \u001b[0;32m~/Logistic-optimization/.venv/lib/python3.8/site-packages/pandas/core/apply.py:798\u001b[0m, in \u001b[0;36mFrameApply.apply_standard\u001b[0;34m(self)\u001b[0m\n\u001b[1;32m    797\u001b[0m \u001b[38;5;28;01mdef\u001b[39;00m \u001b[38;5;21mapply_standard\u001b[39m(\u001b[38;5;28mself\u001b[39m):\n\u001b[0;32m--> 798\u001b[0m     results, res_index \u001b[38;5;241m=\u001b[39m \u001b[38;5;28;43mself\u001b[39;49m\u001b[38;5;241;43m.\u001b[39;49m\u001b[43mapply_series_generator\u001b[49m\u001b[43m(\u001b[49m\u001b[43m)\u001b[49m\n\u001b[1;32m    800\u001b[0m     \u001b[38;5;66;03m# wrap results\u001b[39;00m\n\u001b[1;32m    801\u001b[0m     \u001b[38;5;28;01mreturn\u001b[39;00m \u001b[38;5;28mself\u001b[39m\u001b[38;5;241m.\u001b[39mwrap_results(results, res_index)\n",
      "File \u001b[0;32m~/Logistic-optimization/.venv/lib/python3.8/site-packages/pandas/core/apply.py:814\u001b[0m, in \u001b[0;36mFrameApply.apply_series_generator\u001b[0;34m(self)\u001b[0m\n\u001b[1;32m    811\u001b[0m \u001b[38;5;28;01mwith\u001b[39;00m option_context(\u001b[38;5;124m\"\u001b[39m\u001b[38;5;124mmode.chained_assignment\u001b[39m\u001b[38;5;124m\"\u001b[39m, \u001b[38;5;28;01mNone\u001b[39;00m):\n\u001b[1;32m    812\u001b[0m     \u001b[38;5;28;01mfor\u001b[39;00m i, v \u001b[38;5;129;01min\u001b[39;00m \u001b[38;5;28menumerate\u001b[39m(series_gen):\n\u001b[1;32m    813\u001b[0m         \u001b[38;5;66;03m# ignore SettingWithCopy here in case the user mutates\u001b[39;00m\n\u001b[0;32m--> 814\u001b[0m         results[i] \u001b[38;5;241m=\u001b[39m \u001b[38;5;28;43mself\u001b[39;49m\u001b[38;5;241;43m.\u001b[39;49m\u001b[43mf\u001b[49m\u001b[43m(\u001b[49m\u001b[43mv\u001b[49m\u001b[43m)\u001b[49m\n\u001b[1;32m    815\u001b[0m         \u001b[38;5;28;01mif\u001b[39;00m \u001b[38;5;28misinstance\u001b[39m(results[i], ABCSeries):\n\u001b[1;32m    816\u001b[0m             \u001b[38;5;66;03m# If we have a view on v, we need to make a copy because\u001b[39;00m\n\u001b[1;32m    817\u001b[0m             \u001b[38;5;66;03m#  series_generator will swap out the underlying data\u001b[39;00m\n\u001b[1;32m    818\u001b[0m             results[i] \u001b[38;5;241m=\u001b[39m results[i]\u001b[38;5;241m.\u001b[39mcopy(deep\u001b[38;5;241m=\u001b[39m\u001b[38;5;28;01mFalse\u001b[39;00m)\n",
      "Cell \u001b[0;32mIn[72], line 2\u001b[0m, in \u001b[0;36m<lambda>\u001b[0;34m(row)\u001b[0m\n\u001b[1;32m      1\u001b[0m \u001b[38;5;66;03m# Assume df is your existing DataFrame\u001b[39;00m\n\u001b[0;32m----> 2\u001b[0m df[\u001b[38;5;124m'\u001b[39m\u001b[38;5;124mDistance\u001b[39m\u001b[38;5;124m'\u001b[39m] \u001b[38;5;241m=\u001b[39m df\u001b[38;5;241m.\u001b[39mapply(\u001b[38;5;28;01mlambda\u001b[39;00m row: \u001b[43mcalculate_distance\u001b[49m\u001b[43m(\u001b[49m\u001b[43mrow\u001b[49m\u001b[43m)\u001b[49m, axis\u001b[38;5;241m=\u001b[39m\u001b[38;5;241m1\u001b[39m)\n\u001b[1;32m      3\u001b[0m df[\u001b[38;5;124m'\u001b[39m\u001b[38;5;124mSpeed\u001b[39m\u001b[38;5;124m'\u001b[39m] \u001b[38;5;241m=\u001b[39m df\u001b[38;5;241m.\u001b[39mapply(\u001b[38;5;28;01mlambda\u001b[39;00m row: calculate_speed(row), axis\u001b[38;5;241m=\u001b[39m\u001b[38;5;241m1\u001b[39m)\n",
      "Cell \u001b[0;32mIn[58], line 4\u001b[0m, in \u001b[0;36mcalculate_distance\u001b[0;34m(row)\u001b[0m\n\u001b[1;32m      2\u001b[0m origin \u001b[38;5;241m=\u001b[39m (\u001b[38;5;28mfloat\u001b[39m(row[\u001b[38;5;124m'\u001b[39m\u001b[38;5;124mTrip Origin\u001b[39m\u001b[38;5;124m'\u001b[39m]\u001b[38;5;241m.\u001b[39msplit(\u001b[38;5;124m'\u001b[39m\u001b[38;5;124m,\u001b[39m\u001b[38;5;124m'\u001b[39m)[\u001b[38;5;241m0\u001b[39m]), \u001b[38;5;28mfloat\u001b[39m(row[\u001b[38;5;124m'\u001b[39m\u001b[38;5;124mTrip Origin\u001b[39m\u001b[38;5;124m'\u001b[39m]\u001b[38;5;241m.\u001b[39msplit(\u001b[38;5;124m'\u001b[39m\u001b[38;5;124m,\u001b[39m\u001b[38;5;124m'\u001b[39m)[\u001b[38;5;241m1\u001b[39m]))\n\u001b[1;32m      3\u001b[0m destination \u001b[38;5;241m=\u001b[39m (\u001b[38;5;28mfloat\u001b[39m(row[\u001b[38;5;124m'\u001b[39m\u001b[38;5;124mTrip Destination\u001b[39m\u001b[38;5;124m'\u001b[39m]\u001b[38;5;241m.\u001b[39msplit(\u001b[38;5;124m'\u001b[39m\u001b[38;5;124m,\u001b[39m\u001b[38;5;124m'\u001b[39m)[\u001b[38;5;241m0\u001b[39m]), \u001b[38;5;28mfloat\u001b[39m(row[\u001b[38;5;124m'\u001b[39m\u001b[38;5;124mTrip Destination\u001b[39m\u001b[38;5;124m'\u001b[39m]\u001b[38;5;241m.\u001b[39msplit(\u001b[38;5;124m'\u001b[39m\u001b[38;5;124m,\u001b[39m\u001b[38;5;124m'\u001b[39m)[\u001b[38;5;241m1\u001b[39m]))\n\u001b[0;32m----> 4\u001b[0m distance \u001b[38;5;241m=\u001b[39m \u001b[43mgeodesic\u001b[49m\u001b[43m(\u001b[49m\u001b[43morigin\u001b[49m\u001b[43m,\u001b[49m\u001b[43m \u001b[49m\u001b[43mdestination\u001b[49m\u001b[43m)\u001b[49m\u001b[38;5;241m.\u001b[39mmiles\n\u001b[1;32m      5\u001b[0m \u001b[38;5;28;01mreturn\u001b[39;00m distance\n",
      "File \u001b[0;32m~/Logistic-optimization/.venv/lib/python3.8/site-packages/geopy/distance.py:540\u001b[0m, in \u001b[0;36mgeodesic.__init__\u001b[0;34m(self, *args, **kwargs)\u001b[0m\n\u001b[1;32m    538\u001b[0m \u001b[38;5;28mself\u001b[39m\u001b[38;5;241m.\u001b[39mset_ellipsoid(kwargs\u001b[38;5;241m.\u001b[39mpop(\u001b[38;5;124m'\u001b[39m\u001b[38;5;124mellipsoid\u001b[39m\u001b[38;5;124m'\u001b[39m, \u001b[38;5;124m'\u001b[39m\u001b[38;5;124mWGS-84\u001b[39m\u001b[38;5;124m'\u001b[39m))\n\u001b[1;32m    539\u001b[0m major, minor, f \u001b[38;5;241m=\u001b[39m \u001b[38;5;28mself\u001b[39m\u001b[38;5;241m.\u001b[39mELLIPSOID\n\u001b[0;32m--> 540\u001b[0m \u001b[38;5;28;43msuper\u001b[39;49m\u001b[43m(\u001b[49m\u001b[43m)\u001b[49m\u001b[38;5;241;43m.\u001b[39;49m\u001b[38;5;21;43m__init__\u001b[39;49m\u001b[43m(\u001b[49m\u001b[38;5;241;43m*\u001b[39;49m\u001b[43margs\u001b[49m\u001b[43m,\u001b[49m\u001b[43m \u001b[49m\u001b[38;5;241;43m*\u001b[39;49m\u001b[38;5;241;43m*\u001b[39;49m\u001b[43mkwargs\u001b[49m\u001b[43m)\u001b[49m\n",
      "File \u001b[0;32m~/Logistic-optimization/.venv/lib/python3.8/site-packages/geopy/distance.py:276\u001b[0m, in \u001b[0;36mDistance.__init__\u001b[0;34m(self, *args, **kwargs)\u001b[0m\n\u001b[1;32m    274\u001b[0m \u001b[38;5;28;01melif\u001b[39;00m \u001b[38;5;28mlen\u001b[39m(args) \u001b[38;5;241m>\u001b[39m \u001b[38;5;241m1\u001b[39m:\n\u001b[1;32m    275\u001b[0m     \u001b[38;5;28;01mfor\u001b[39;00m a, b \u001b[38;5;129;01min\u001b[39;00m util\u001b[38;5;241m.\u001b[39mpairwise(args):\n\u001b[0;32m--> 276\u001b[0m         kilometers \u001b[38;5;241m+\u001b[39m\u001b[38;5;241m=\u001b[39m \u001b[38;5;28;43mself\u001b[39;49m\u001b[38;5;241;43m.\u001b[39;49m\u001b[43mmeasure\u001b[49m\u001b[43m(\u001b[49m\u001b[43ma\u001b[49m\u001b[43m,\u001b[49m\u001b[43m \u001b[49m\u001b[43mb\u001b[49m\u001b[43m)\u001b[49m\n\u001b[1;32m    278\u001b[0m kilometers \u001b[38;5;241m+\u001b[39m\u001b[38;5;241m=\u001b[39m units\u001b[38;5;241m.\u001b[39mkilometers(\u001b[38;5;241m*\u001b[39m\u001b[38;5;241m*\u001b[39mkwargs)\n\u001b[1;32m    279\u001b[0m \u001b[38;5;28mself\u001b[39m\u001b[38;5;241m.\u001b[39m__kilometers \u001b[38;5;241m=\u001b[39m kilometers\n",
      "File \u001b[0;32m~/Logistic-optimization/.venv/lib/python3.8/site-packages/geopy/distance.py:566\u001b[0m, in \u001b[0;36mgeodesic.measure\u001b[0;34m(self, a, b)\u001b[0m\n\u001b[1;32m    561\u001b[0m \u001b[38;5;28;01mif\u001b[39;00m \u001b[38;5;129;01mnot\u001b[39;00m (\u001b[38;5;28misinstance\u001b[39m(\u001b[38;5;28mself\u001b[39m\u001b[38;5;241m.\u001b[39mgeod, Geodesic) \u001b[38;5;129;01mand\u001b[39;00m\n\u001b[1;32m    562\u001b[0m         \u001b[38;5;28mself\u001b[39m\u001b[38;5;241m.\u001b[39mgeod\u001b[38;5;241m.\u001b[39ma \u001b[38;5;241m==\u001b[39m \u001b[38;5;28mself\u001b[39m\u001b[38;5;241m.\u001b[39mELLIPSOID[\u001b[38;5;241m0\u001b[39m] \u001b[38;5;129;01mand\u001b[39;00m\n\u001b[1;32m    563\u001b[0m         \u001b[38;5;28mself\u001b[39m\u001b[38;5;241m.\u001b[39mgeod\u001b[38;5;241m.\u001b[39mf \u001b[38;5;241m==\u001b[39m \u001b[38;5;28mself\u001b[39m\u001b[38;5;241m.\u001b[39mELLIPSOID[\u001b[38;5;241m2\u001b[39m]):\n\u001b[1;32m    564\u001b[0m     \u001b[38;5;28mself\u001b[39m\u001b[38;5;241m.\u001b[39mgeod \u001b[38;5;241m=\u001b[39m Geodesic(\u001b[38;5;28mself\u001b[39m\u001b[38;5;241m.\u001b[39mELLIPSOID[\u001b[38;5;241m0\u001b[39m], \u001b[38;5;28mself\u001b[39m\u001b[38;5;241m.\u001b[39mELLIPSOID[\u001b[38;5;241m2\u001b[39m])\n\u001b[0;32m--> 566\u001b[0m s12 \u001b[38;5;241m=\u001b[39m \u001b[38;5;28;43mself\u001b[39;49m\u001b[38;5;241;43m.\u001b[39;49m\u001b[43mgeod\u001b[49m\u001b[38;5;241;43m.\u001b[39;49m\u001b[43mInverse\u001b[49m\u001b[43m(\u001b[49m\u001b[43mlat1\u001b[49m\u001b[43m,\u001b[49m\u001b[43m \u001b[49m\u001b[43mlon1\u001b[49m\u001b[43m,\u001b[49m\u001b[43m \u001b[49m\u001b[43mlat2\u001b[49m\u001b[43m,\u001b[49m\u001b[43m \u001b[49m\u001b[43mlon2\u001b[49m\u001b[43m,\u001b[49m\n\u001b[1;32m    567\u001b[0m \u001b[43m                        \u001b[49m\u001b[43mGeodesic\u001b[49m\u001b[38;5;241;43m.\u001b[39;49m\u001b[43mDISTANCE\u001b[49m\u001b[43m)\u001b[49m[\u001b[38;5;124m'\u001b[39m\u001b[38;5;124ms12\u001b[39m\u001b[38;5;124m'\u001b[39m]\n\u001b[1;32m    569\u001b[0m \u001b[38;5;28;01mreturn\u001b[39;00m s12\n",
      "File \u001b[0;32m~/Logistic-optimization/.venv/lib/python3.8/site-packages/geographiclib/geodesic.py:1030\u001b[0m, in \u001b[0;36mGeodesic.Inverse\u001b[0;34m(self, lat1, lon1, lat2, lon2, outmask)\u001b[0m\n\u001b[1;32m   1012\u001b[0m \u001b[38;5;28;01mdef\u001b[39;00m \u001b[38;5;21mInverse\u001b[39m(\u001b[38;5;28mself\u001b[39m, lat1, lon1, lat2, lon2,\n\u001b[1;32m   1013\u001b[0m             outmask \u001b[38;5;241m=\u001b[39m GeodesicCapability\u001b[38;5;241m.\u001b[39mSTANDARD):\n\u001b[1;32m   1014\u001b[0m \u001b[38;5;250m  \u001b[39m\u001b[38;5;124;03m\"\"\"Solve the inverse geodesic problem\u001b[39;00m\n\u001b[1;32m   1015\u001b[0m \n\u001b[1;32m   1016\u001b[0m \u001b[38;5;124;03m  :param lat1: latitude of the first point in degrees\u001b[39;00m\n\u001b[0;32m   (...)\u001b[0m\n\u001b[1;32m   1027\u001b[0m \n\u001b[1;32m   1028\u001b[0m \u001b[38;5;124;03m  \"\"\"\u001b[39;00m\n\u001b[0;32m-> 1030\u001b[0m   a12, s12, salp1,calp1, salp2,calp2, m12, M12, M21, S12 \u001b[38;5;241m=\u001b[39m \u001b[38;5;28;43mself\u001b[39;49m\u001b[38;5;241;43m.\u001b[39;49m\u001b[43m_GenInverse\u001b[49m\u001b[43m(\u001b[49m\n\u001b[1;32m   1031\u001b[0m \u001b[43m    \u001b[49m\u001b[43mlat1\u001b[49m\u001b[43m,\u001b[49m\u001b[43m \u001b[49m\u001b[43mlon1\u001b[49m\u001b[43m,\u001b[49m\u001b[43m \u001b[49m\u001b[43mlat2\u001b[49m\u001b[43m,\u001b[49m\u001b[43m \u001b[49m\u001b[43mlon2\u001b[49m\u001b[43m,\u001b[49m\u001b[43m \u001b[49m\u001b[43moutmask\u001b[49m\u001b[43m)\u001b[49m\n\u001b[1;32m   1032\u001b[0m   outmask \u001b[38;5;241m&\u001b[39m\u001b[38;5;241m=\u001b[39m Geodesic\u001b[38;5;241m.\u001b[39mOUT_MASK\n\u001b[1;32m   1033\u001b[0m   \u001b[38;5;28;01mif\u001b[39;00m outmask \u001b[38;5;241m&\u001b[39m Geodesic\u001b[38;5;241m.\u001b[39mLONG_UNROLL:\n",
      "File \u001b[0;32m~/Logistic-optimization/.venv/lib/python3.8/site-packages/geographiclib/geodesic.py:841\u001b[0m, in \u001b[0;36mGeodesic._GenInverse\u001b[0;34m(self, lat1, lon1, lat2, lon2, outmask)\u001b[0m\n\u001b[1;32m    833\u001b[0m   a12 \u001b[38;5;241m=\u001b[39m lon12 \u001b[38;5;241m/\u001b[39m \u001b[38;5;28mself\u001b[39m\u001b[38;5;241m.\u001b[39m_f1\n\u001b[1;32m    835\u001b[0m \u001b[38;5;28;01melif\u001b[39;00m \u001b[38;5;129;01mnot\u001b[39;00m meridian:\n\u001b[1;32m    836\u001b[0m \n\u001b[1;32m    837\u001b[0m   \u001b[38;5;66;03m# Now point1 and point2 belong within a hemisphere bounded by a\u001b[39;00m\n\u001b[1;32m    838\u001b[0m   \u001b[38;5;66;03m# meridian and geodesic is neither meridional or equatorial.\u001b[39;00m\n\u001b[1;32m    839\u001b[0m \n\u001b[1;32m    840\u001b[0m   \u001b[38;5;66;03m# Figure a starting point for Newton's method\u001b[39;00m\n\u001b[0;32m--> 841\u001b[0m   sig12, salp1, calp1, salp2, calp2, dnm \u001b[38;5;241m=\u001b[39m \u001b[38;5;28;43mself\u001b[39;49m\u001b[38;5;241;43m.\u001b[39;49m\u001b[43m_InverseStart\u001b[49m\u001b[43m(\u001b[49m\n\u001b[1;32m    842\u001b[0m \u001b[43m    \u001b[49m\u001b[43msbet1\u001b[49m\u001b[43m,\u001b[49m\u001b[43m \u001b[49m\u001b[43mcbet1\u001b[49m\u001b[43m,\u001b[49m\u001b[43m \u001b[49m\u001b[43mdn1\u001b[49m\u001b[43m,\u001b[49m\u001b[43m \u001b[49m\u001b[43msbet2\u001b[49m\u001b[43m,\u001b[49m\u001b[43m \u001b[49m\u001b[43mcbet2\u001b[49m\u001b[43m,\u001b[49m\u001b[43m \u001b[49m\u001b[43mdn2\u001b[49m\u001b[43m,\u001b[49m\u001b[43m \u001b[49m\u001b[43mlam12\u001b[49m\u001b[43m,\u001b[49m\u001b[43m \u001b[49m\u001b[43mslam12\u001b[49m\u001b[43m,\u001b[49m\u001b[43m \u001b[49m\u001b[43mclam12\u001b[49m\u001b[43m,\u001b[49m\u001b[43m \u001b[49m\u001b[43mC1a\u001b[49m\u001b[43m,\u001b[49m\u001b[43m \u001b[49m\u001b[43mC2a\u001b[49m\u001b[43m)\u001b[49m\n\u001b[1;32m    844\u001b[0m   \u001b[38;5;28;01mif\u001b[39;00m sig12 \u001b[38;5;241m>\u001b[39m\u001b[38;5;241m=\u001b[39m \u001b[38;5;241m0\u001b[39m:\n\u001b[1;32m    845\u001b[0m     \u001b[38;5;66;03m# Short lines (InverseStart sets salp2, calp2, dnm)\u001b[39;00m\n\u001b[1;32m    846\u001b[0m     s12x \u001b[38;5;241m=\u001b[39m sig12 \u001b[38;5;241m*\u001b[39m \u001b[38;5;28mself\u001b[39m\u001b[38;5;241m.\u001b[39m_b \u001b[38;5;241m*\u001b[39m dnm\n",
      "File \u001b[0;32m~/Logistic-optimization/.venv/lib/python3.8/site-packages/geographiclib/geodesic.py:518\u001b[0m, in \u001b[0;36mGeodesic._InverseStart\u001b[0;34m(self, sbet1, cbet1, dn1, sbet2, cbet2, dn2, lam12, slam12, clam12, C1a, C2a)\u001b[0m\n\u001b[1;32m    514\u001b[0m   somg12 \u001b[38;5;241m=\u001b[39m slam12; comg12 \u001b[38;5;241m=\u001b[39m clam12\n\u001b[1;32m    516\u001b[0m salp1 \u001b[38;5;241m=\u001b[39m cbet2 \u001b[38;5;241m*\u001b[39m somg12\n\u001b[1;32m    517\u001b[0m calp1 \u001b[38;5;241m=\u001b[39m (\n\u001b[0;32m--> 518\u001b[0m   sbet12 \u001b[38;5;241m+\u001b[39m cbet2 \u001b[38;5;241m*\u001b[39m sbet1 \u001b[38;5;241m*\u001b[39m Math\u001b[38;5;241m.\u001b[39msq(somg12) \u001b[38;5;241m/\u001b[39m (\u001b[38;5;241m1\u001b[39m \u001b[38;5;241m+\u001b[39m comg12) \u001b[38;5;28;01mif\u001b[39;00m \u001b[43mcomg12\u001b[49m\u001b[43m \u001b[49m\u001b[38;5;241;43m>\u001b[39;49m\u001b[38;5;241;43m=\u001b[39;49m\u001b[43m \u001b[49m\u001b[38;5;241;43m0\u001b[39;49m\n\u001b[1;32m    519\u001b[0m   \u001b[38;5;28;01melse\u001b[39;00m sbet12a \u001b[38;5;241m-\u001b[39m cbet2 \u001b[38;5;241m*\u001b[39m sbet1 \u001b[38;5;241m*\u001b[39m Math\u001b[38;5;241m.\u001b[39msq(somg12) \u001b[38;5;241m/\u001b[39m (\u001b[38;5;241m1\u001b[39m \u001b[38;5;241m-\u001b[39m comg12))\n\u001b[1;32m    521\u001b[0m ssig12 \u001b[38;5;241m=\u001b[39m math\u001b[38;5;241m.\u001b[39mhypot(salp1, calp1)\n\u001b[1;32m    522\u001b[0m csig12 \u001b[38;5;241m=\u001b[39m sbet1 \u001b[38;5;241m*\u001b[39m sbet2 \u001b[38;5;241m+\u001b[39m cbet1 \u001b[38;5;241m*\u001b[39m cbet2 \u001b[38;5;241m*\u001b[39m comg12\n",
      "\u001b[0;31mKeyboardInterrupt\u001b[0m: "
     ]
    }
   ],
   "source": [
    "# Assume df is your existing DataFrame\n",
    "df['Distance'] = df.apply(lambda row: calculate_distance(row), axis=1)\n",
    "df['Speed'] = df.apply(lambda row: calculate_speed(row), axis=1)\n"
   ]
  },
  {
   "cell_type": "code",
   "execution_count": null,
   "metadata": {},
   "outputs": [],
   "source": [
    "df['Weekday'] = df.apply(lambda row: get_weekday_or_weekend(row['Date']), axis=1)\n",
    "df['Holiday'] = df.apply(lambda row: is_holiday(row['Date']), axis=1)\n",
    "df['Rain'] = df.apply(lambda row: get_weather_data(row['Date']), axis=1)"
   ]
  }
 ],
 "metadata": {
  "kernelspec": {
   "display_name": ".venv",
   "language": "python",
   "name": "python3"
  },
  "language_info": {
   "codemirror_mode": {
    "name": "ipython",
    "version": 3
   },
   "file_extension": ".py",
   "mimetype": "text/x-python",
   "name": "python",
   "nbconvert_exporter": "python",
   "pygments_lexer": "ipython3",
   "version": "3.8.10"
  }
 },
 "nbformat": 4,
 "nbformat_minor": 2
}
