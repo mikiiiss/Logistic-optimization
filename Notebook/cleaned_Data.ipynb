{
 "cells": [
  {
   "cell_type": "code",
   "execution_count": 22,
   "metadata": {},
   "outputs": [],
   "source": [
    "import pandas as pd\n",
    "from geopy.distance import geodesic\n",
    "import datetime"
   ]
  },
  {
   "cell_type": "code",
   "execution_count": 32,
   "metadata": {},
   "outputs": [
    {
     "data": {
      "text/html": [
       "<div>\n",
       "<style scoped>\n",
       "    .dataframe tbody tr th:only-of-type {\n",
       "        vertical-align: middle;\n",
       "    }\n",
       "\n",
       "    .dataframe tbody tr th {\n",
       "        vertical-align: top;\n",
       "    }\n",
       "\n",
       "    .dataframe thead th {\n",
       "        text-align: right;\n",
       "    }\n",
       "</style>\n",
       "<table border=\"1\" class=\"dataframe\">\n",
       "  <thead>\n",
       "    <tr style=\"text-align: right;\">\n",
       "      <th></th>\n",
       "      <th>Trip ID</th>\n",
       "      <th>Trip Origin</th>\n",
       "      <th>Trip Destination</th>\n",
       "      <th>Trip Start Time</th>\n",
       "      <th>Trip End Time</th>\n",
       "    </tr>\n",
       "  </thead>\n",
       "  <tbody>\n",
       "    <tr>\n",
       "      <th>0</th>\n",
       "      <td>391996</td>\n",
       "      <td>6.508813001668548,3.37740316890347</td>\n",
       "      <td>6.650969799999999,3.3450307</td>\n",
       "      <td>2021-07-01 07:28:04</td>\n",
       "      <td>2021-07-01 07:29:37</td>\n",
       "    </tr>\n",
       "    <tr>\n",
       "      <th>1</th>\n",
       "      <td>391997</td>\n",
       "      <td>6.4316714,3.4555375</td>\n",
       "      <td>6.4280814653326,3.4721885847586</td>\n",
       "      <td>2021-07-01 06:38:04</td>\n",
       "      <td>2021-07-01 07:07:28</td>\n",
       "    </tr>\n",
       "    <tr>\n",
       "      <th>2</th>\n",
       "      <td>391998</td>\n",
       "      <td>6.631679399999999,3.3388976</td>\n",
       "      <td>6.508324099999999,3.3590397</td>\n",
       "      <td>2021-07-01 06:21:02</td>\n",
       "      <td>2021-07-01 07:02:23</td>\n",
       "    </tr>\n",
       "    <tr>\n",
       "      <th>3</th>\n",
       "      <td>391999</td>\n",
       "      <td>6.572757200000001,3.3677082</td>\n",
       "      <td>6.584881099999999,3.3614073</td>\n",
       "      <td>2021-07-01 07:16:07</td>\n",
       "      <td>2021-07-01 07:29:42</td>\n",
       "    </tr>\n",
       "    <tr>\n",
       "      <th>4</th>\n",
       "      <td>392001</td>\n",
       "      <td>6.6010417,3.2766339</td>\n",
       "      <td>6.4501069,3.3916154</td>\n",
       "      <td>2021-07-01 09:30:59</td>\n",
       "      <td>2021-07-01 09:34:36</td>\n",
       "    </tr>\n",
       "  </tbody>\n",
       "</table>\n",
       "</div>"
      ],
      "text/plain": [
       "   Trip ID                         Trip Origin  \\\n",
       "0   391996  6.508813001668548,3.37740316890347   \n",
       "1   391997                 6.4316714,3.4555375   \n",
       "2   391998         6.631679399999999,3.3388976   \n",
       "3   391999         6.572757200000001,3.3677082   \n",
       "4   392001                 6.6010417,3.2766339   \n",
       "\n",
       "                  Trip Destination      Trip Start Time        Trip End Time  \n",
       "0      6.650969799999999,3.3450307  2021-07-01 07:28:04  2021-07-01 07:29:37  \n",
       "1  6.4280814653326,3.4721885847586  2021-07-01 06:38:04  2021-07-01 07:07:28  \n",
       "2      6.508324099999999,3.3590397  2021-07-01 06:21:02  2021-07-01 07:02:23  \n",
       "3      6.584881099999999,3.3614073  2021-07-01 07:16:07  2021-07-01 07:29:42  \n",
       "4              6.4501069,3.3916154  2021-07-01 09:30:59  2021-07-01 09:34:36  "
      ]
     },
     "execution_count": 32,
     "metadata": {},
     "output_type": "execute_result"
    }
   ],
   "source": [
    "path=\"Dataset/cleaned_data.csv\"\n",
    "df= pd.read_csv(path)\n",
    "df.head()"
   ]
  },
  {
   "cell_type": "code",
   "execution_count": 33,
   "metadata": {},
   "outputs": [
    {
     "data": {
      "text/plain": [
       "(534368, 5)"
      ]
     },
     "execution_count": 33,
     "metadata": {},
     "output_type": "execute_result"
    }
   ],
   "source": [
    "df.shape"
   ]
  },
  {
   "cell_type": "code",
   "execution_count": 19,
   "metadata": {},
   "outputs": [
    {
     "name": "stdout",
     "output_type": "stream",
     "text": [
      "   Trip ID                         Trip Origin  \\\n",
      "0   391996  6.508813001668548,3.37740316890347   \n",
      "1   391997                 6.4316714,3.4555375   \n",
      "2   391998         6.631679399999999,3.3388976   \n",
      "3   391999         6.572757200000001,3.3677082   \n",
      "4   392001                 6.6010417,3.2766339   \n",
      "\n",
      "                  Trip Destination      Trip Start Time        Trip End Time  \\\n",
      "0      6.650969799999999,3.3450307  2021-07-01 07:28:04  2021-07-01 07:29:37   \n",
      "1  6.4280814653326,3.4721885847586  2021-07-01 06:38:04  2021-07-01 07:07:28   \n",
      "2      6.508324099999999,3.3590397  2021-07-01 06:21:02  2021-07-01 07:02:23   \n",
      "3      6.584881099999999,3.3614073  2021-07-01 07:16:07  2021-07-01 07:29:42   \n",
      "4              6.4501069,3.3916154  2021-07-01 09:30:59  2021-07-01 09:34:36   \n",
      "\n",
      "    Distance  \n",
      "0  10.018648  \n",
      "1   1.170853  \n",
      "2   8.588837  \n",
      "3   0.938913  \n",
      "4  13.039051  \n"
     ]
    }
   ],
   "source": [
    "def calculate_distance(row):\n",
    "    origin = (float(row['Trip Origin'].split(',')[0]), float(row['Trip Origin'].split(',')[1]))\n",
    "    destination = (float(row['Trip Destination'].split(',')[0]), float(row['Trip Destination'].split(',')[1]))\n",
    "    distance = geodesic(origin, destination).miles\n",
    "    return distance\n",
    "\n",
    "df = pd.DataFrame({\n",
    "    'Trip ID': [391996, 391997, 391998, 391999, 392001],\n",
    "    'Trip Origin': ['6.508813001668548,3.37740316890347', '6.4316714,3.4555375', '6.631679399999999,3.3388976', '6.572757200000001,3.3677082', '6.6010417,3.2766339'],\n",
    "    'Trip Destination': ['6.650969799999999,3.3450307', '6.4280814653326,3.4721885847586', '6.508324099999999,3.3590397', '6.584881099999999,3.3614073', '6.4501069,3.3916154'],\n",
    "    'Trip Start Time': ['2021-07-01 07:28:04', '2021-07-01 06:38:04', '2021-07-01 06:21:02', '2021-07-01 07:16:07', '2021-07-01 09:30:59'],\n",
    "    'Trip End Time': ['2021-07-01 07:29:37', '2021-07-01 07:07:28', '2021-07-01 07:02:23', '2021-07-01 07:29:42', '2021-07-01 09:34:36']\n",
    "})\n",
    "\n",
    "df['Distance'] = df.apply(lambda row: calculate_distance(row), axis=1)\n",
    "\n",
    "print(df)"
   ]
  },
  {
   "cell_type": "code",
   "execution_count": 34,
   "metadata": {},
   "outputs": [
    {
     "data": {
      "text/plain": [
       "(534368, 5)"
      ]
     },
     "execution_count": 34,
     "metadata": {},
     "output_type": "execute_result"
    }
   ],
   "source": [
    "df.shape"
   ]
  },
  {
   "cell_type": "code",
   "execution_count": 20,
   "metadata": {},
   "outputs": [],
   "source": [
    "\n",
    "def calculate_distance(row):\n",
    "    origin = (float(row['Trip Origin'].split(',')[0]), float(row['Trip Origin'].split(',')[1]))\n",
    "    destination = (float(row['Trip Destination'].split(',')[0]), float(row['Trip Destination'].split(',')[1]))\n",
    "    distance = geodesic(origin, destination).miles\n",
    "    return distance\n",
    "\n",
    "def calculate_speed(row):\n",
    "    distance = row['Distance']\n",
    "    start_time = pd.to_datetime(row['Trip Start Time'])\n",
    "    end_time = pd.to_datetime(row['Trip End Time'])\n",
    "    time_diff = end_time - start_time\n",
    "    speed = distance / time_diff.total_seconds() * 3600\n",
    "    return speed\n",
    "\n",
    "df = pd.DataFrame({\n",
    "    'Trip ID': [391996, 391997, 391998, 391999, 392001],\n",
    "    'Trip Origin': ['6.508813001668548,3.37740316890347', '6.4316714,3.4555375', '6.631679399999999,3.3388976', '6.572757200000001,3.3677082', '6.6010417,3.2766339'],\n",
    "    'Trip Destination': ['6.650969799999999,3.3450307', '6.4280814653326,3.4721885847586', '6.508324099999999,3.3590397', '6.584881099999999,3.3614073', '6.4501069,3.3916154'],\n",
    "    'Trip Start Time': ['2021-07-01 07:28:04', '2021-07-01 06:38:04', '2021-07-01 06:21:02', '2021-07-01 07:16:07', '2021-07-01 09:30:59'],\n",
    "    'Trip End Time': ['2021-07-01 07:29:37', '2021-07-01 07:07:28', '2021-07-01 07:02:23', '2021-07-01 07:29:42', '2021-07-01 09:34:36']\n",
    "})\n",
    "\n",
    "df['Distance'] = df.apply(lambda row: calculate_distance(row), axis=1)\n",
    "\n",
    "df['Speed'] = df.apply(lambda row: calculate_speed(row), axis=1)\n"
   ]
  },
  {
   "cell_type": "code",
   "execution_count": 21,
   "metadata": {},
   "outputs": [],
   "source": [
    "\n",
    "def get_weekday_or_weekend(date):\n",
    "    day = date.weekday()\n",
    "    if day == 0 or day == 6:\n",
    "        return 'Weekend'\n",
    "    else:\n",
    "        return 'Weekday'\n"
   ]
  },
  {
   "cell_type": "code",
   "execution_count": 23,
   "metadata": {},
   "outputs": [],
   "source": [
    "df['Day'] = df['Trip Start Time'].apply(lambda x: get_weekday_or_weekend(pd.to_datetime(x).date()))"
   ]
  },
  {
   "cell_type": "code",
   "execution_count": 27,
   "metadata": {},
   "outputs": [],
   "source": [
    "# Simplified weather classification\n",
    "weather_classification = {\n",
    "    \"clear sky\": \"Sunny\",\n",
    "    \"few clouds\": \"Sunny\",  # Assuming few clouds still make for a generally sunny day\n",
    "    \"scattered clouds\": \"Cloudy\",\n",
    "    \"broken clouds\": \"Cloudy\",\n",
    "    \"shower rain\": \"Rainy\",\n",
    "    \"rain\": \"Rainy\",\n",
    "    \"thunderstorm\": \"Rainy\",  # Thunderstorms typically involve rain\n",
    "    \"snow\": \"Rainy\",         # Treating snow as rainy for simplicity, adjust as needed\n",
    "    \"mist\": \"Cloudy\",        # Mist can be considered a form of cloudiness\n",
    "    # Add more mappings or adjust existing ones as per your preference\n",
    "}"
   ]
  },
  {
   "cell_type": "code",
   "execution_count": 29,
   "metadata": {},
   "outputs": [],
   "source": [
    "import requests\n",
    "from datetime import datetime\n",
    "\n",
    "def get_weather_simplified(date):\n",
    "    api_key = \"a7b70f6e-27e2-11ef-9acf-0242ac130004-a7b7102c-27e2-11ef-9acf-0242ac130004\"\n",
    "    base_url = \"http://api.openweathermap.org/data/2.5/forecast\"\n",
    "    params = {\n",
    "        \"q\": \"Lagos\",\n",
    "        \"appid\": api_key,\n",
    "        \"units\": \"imperial\"\n",
    "    }\n",
    "    \n",
    "    response = requests.get(base_url, params=params)\n",
    "    weather_data = response.json()\n",
    "    \n",
    "    classified_forecasts = []\n",
    "    for forecast in weather_data[\"list\"]:\n",
    "        forecast_date = datetime.utcfromtimestamp(forecast[\"dt\"]).date()\n",
    "        if forecast_date == date:\n",
    "            description = forecast[\"weather\"][0][\"description\"]\n",
    "            # Simplified classification\n",
    "            weather_type = weather_classification.get(description, \"Unknown\")\n",
    "            classified_forecasts.append({\"date\": forecast_date, \"description\": description, \"weather_type\": weather_type})\n",
    "    \n",
    "    return classified_forecasts"
   ]
  },
  {
   "cell_type": "code",
   "execution_count": 25,
   "metadata": {},
   "outputs": [],
   "source": [
    "import holidays\n",
    "import datetime\n",
    "\n",
    "# Define the holidays for Nigeria\n",
    "ng_holidays = holidays.NG()\n",
    "\n",
    "def get_weekday_or_weekend(date):\n",
    "    day = date.weekday()\n",
    "    if day == 0 or day == 6:\n",
    "        return 'Weekend'\n",
    "    else:\n",
    "        return 'Weekday'\n",
    "\n",
    "def check_holiday(date):\n",
    "    return date in ng_holidays"
   ]
  },
  {
   "cell_type": "code",
   "execution_count": null,
   "metadata": {},
   "outputs": [],
   "source": [
    "cleaned_df =df['Distance'] "
   ]
  }
 ],
 "metadata": {
  "kernelspec": {
   "display_name": ".venv",
   "language": "python",
   "name": "python3"
  },
  "language_info": {
   "codemirror_mode": {
    "name": "ipython",
    "version": 3
   },
   "file_extension": ".py",
   "mimetype": "text/x-python",
   "name": "python",
   "nbconvert_exporter": "python",
   "pygments_lexer": "ipython3",
   "version": "3.8.10"
  }
 },
 "nbformat": 4,
 "nbformat_minor": 2
}
